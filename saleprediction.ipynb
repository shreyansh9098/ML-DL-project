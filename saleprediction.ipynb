{
 "cells": [
  {
   "cell_type": "code",
   "execution_count": 1,
   "metadata": {},
   "outputs": [],
   "source": [
    "import numpy as np\n",
    "import pandas as pd\n",
    "import matplotlib.pyplot as plt\n",
    "import seaborn as sns\n",
    "import plotly.express as px"
   ]
  },
  {
   "cell_type": "code",
   "execution_count": 2,
   "metadata": {},
   "outputs": [
    {
     "name": "stdout",
     "output_type": "stream",
     "text": [
      "Requirement already satisfied: plotly in c:\\users\\hp\\appdata\\local\\programs\\python\\python38\\lib\\site-packages (5.24.1)\n",
      "Requirement already satisfied: tenacity>=6.2.0 in c:\\users\\hp\\appdata\\local\\programs\\python\\python38\\lib\\site-packages (from plotly) (8.2.3)\n",
      "Requirement already satisfied: packaging in c:\\users\\hp\\appdata\\local\\programs\\python\\python38\\lib\\site-packages (from plotly) (23.2)\n",
      "Note: you may need to restart the kernel to use updated packages.\n"
     ]
    },
    {
     "name": "stderr",
     "output_type": "stream",
     "text": [
      "\n",
      "[notice] A new release of pip is available: 24.0 -> 24.2\n",
      "[notice] To update, run: python.exe -m pip install --upgrade pip\n"
     ]
    }
   ],
   "source": [
    "pip install plotly"
   ]
  },
  {
   "cell_type": "code",
   "execution_count": 3,
   "metadata": {},
   "outputs": [
    {
     "data": {
      "text/html": [
       "<div>\n",
       "<style scoped>\n",
       "    .dataframe tbody tr th:only-of-type {\n",
       "        vertical-align: middle;\n",
       "    }\n",
       "\n",
       "    .dataframe tbody tr th {\n",
       "        vertical-align: top;\n",
       "    }\n",
       "\n",
       "    .dataframe thead th {\n",
       "        text-align: right;\n",
       "    }\n",
       "</style>\n",
       "<table border=\"1\" class=\"dataframe\">\n",
       "  <thead>\n",
       "    <tr style=\"text-align: right;\">\n",
       "      <th></th>\n",
       "      <th>Row ID</th>\n",
       "      <th>Order ID</th>\n",
       "      <th>Order Date</th>\n",
       "      <th>Ship Date</th>\n",
       "      <th>Ship Mode</th>\n",
       "      <th>Customer ID</th>\n",
       "      <th>Customer Name</th>\n",
       "      <th>Segment</th>\n",
       "      <th>Country</th>\n",
       "      <th>City</th>\n",
       "      <th>State</th>\n",
       "      <th>Postal Code</th>\n",
       "      <th>Region</th>\n",
       "      <th>Product ID</th>\n",
       "      <th>Category</th>\n",
       "      <th>Sub-Category</th>\n",
       "      <th>Product Name</th>\n",
       "      <th>Sales</th>\n",
       "    </tr>\n",
       "  </thead>\n",
       "  <tbody>\n",
       "    <tr>\n",
       "      <th>0</th>\n",
       "      <td>1</td>\n",
       "      <td>CA-2017-152156</td>\n",
       "      <td>08/11/2017</td>\n",
       "      <td>11/11/2017</td>\n",
       "      <td>Second Class</td>\n",
       "      <td>CG-12520</td>\n",
       "      <td>Claire Gute</td>\n",
       "      <td>Consumer</td>\n",
       "      <td>United States</td>\n",
       "      <td>Henderson</td>\n",
       "      <td>Kentucky</td>\n",
       "      <td>42420.0</td>\n",
       "      <td>South</td>\n",
       "      <td>FUR-BO-10001798</td>\n",
       "      <td>Furniture</td>\n",
       "      <td>Bookcases</td>\n",
       "      <td>Bush Somerset Collection Bookcase</td>\n",
       "      <td>261.9600</td>\n",
       "    </tr>\n",
       "    <tr>\n",
       "      <th>1</th>\n",
       "      <td>2</td>\n",
       "      <td>CA-2017-152156</td>\n",
       "      <td>08/11/2017</td>\n",
       "      <td>11/11/2017</td>\n",
       "      <td>Second Class</td>\n",
       "      <td>CG-12520</td>\n",
       "      <td>Claire Gute</td>\n",
       "      <td>Consumer</td>\n",
       "      <td>United States</td>\n",
       "      <td>Henderson</td>\n",
       "      <td>Kentucky</td>\n",
       "      <td>42420.0</td>\n",
       "      <td>South</td>\n",
       "      <td>FUR-CH-10000454</td>\n",
       "      <td>Furniture</td>\n",
       "      <td>Chairs</td>\n",
       "      <td>Hon Deluxe Fabric Upholstered Stacking Chairs,...</td>\n",
       "      <td>731.9400</td>\n",
       "    </tr>\n",
       "    <tr>\n",
       "      <th>2</th>\n",
       "      <td>3</td>\n",
       "      <td>CA-2017-138688</td>\n",
       "      <td>12/06/2017</td>\n",
       "      <td>16/06/2017</td>\n",
       "      <td>Second Class</td>\n",
       "      <td>DV-13045</td>\n",
       "      <td>Darrin Van Huff</td>\n",
       "      <td>Corporate</td>\n",
       "      <td>United States</td>\n",
       "      <td>Los Angeles</td>\n",
       "      <td>California</td>\n",
       "      <td>90036.0</td>\n",
       "      <td>West</td>\n",
       "      <td>OFF-LA-10000240</td>\n",
       "      <td>Office Supplies</td>\n",
       "      <td>Labels</td>\n",
       "      <td>Self-Adhesive Address Labels for Typewriters b...</td>\n",
       "      <td>14.6200</td>\n",
       "    </tr>\n",
       "    <tr>\n",
       "      <th>3</th>\n",
       "      <td>4</td>\n",
       "      <td>US-2016-108966</td>\n",
       "      <td>11/10/2016</td>\n",
       "      <td>18/10/2016</td>\n",
       "      <td>Standard Class</td>\n",
       "      <td>SO-20335</td>\n",
       "      <td>Sean O'Donnell</td>\n",
       "      <td>Consumer</td>\n",
       "      <td>United States</td>\n",
       "      <td>Fort Lauderdale</td>\n",
       "      <td>Florida</td>\n",
       "      <td>33311.0</td>\n",
       "      <td>South</td>\n",
       "      <td>FUR-TA-10000577</td>\n",
       "      <td>Furniture</td>\n",
       "      <td>Tables</td>\n",
       "      <td>Bretford CR4500 Series Slim Rectangular Table</td>\n",
       "      <td>957.5775</td>\n",
       "    </tr>\n",
       "    <tr>\n",
       "      <th>4</th>\n",
       "      <td>5</td>\n",
       "      <td>US-2016-108966</td>\n",
       "      <td>11/10/2016</td>\n",
       "      <td>18/10/2016</td>\n",
       "      <td>Standard Class</td>\n",
       "      <td>SO-20335</td>\n",
       "      <td>Sean O'Donnell</td>\n",
       "      <td>Consumer</td>\n",
       "      <td>United States</td>\n",
       "      <td>Fort Lauderdale</td>\n",
       "      <td>Florida</td>\n",
       "      <td>33311.0</td>\n",
       "      <td>South</td>\n",
       "      <td>OFF-ST-10000760</td>\n",
       "      <td>Office Supplies</td>\n",
       "      <td>Storage</td>\n",
       "      <td>Eldon Fold 'N Roll Cart System</td>\n",
       "      <td>22.3680</td>\n",
       "    </tr>\n",
       "    <tr>\n",
       "      <th>...</th>\n",
       "      <td>...</td>\n",
       "      <td>...</td>\n",
       "      <td>...</td>\n",
       "      <td>...</td>\n",
       "      <td>...</td>\n",
       "      <td>...</td>\n",
       "      <td>...</td>\n",
       "      <td>...</td>\n",
       "      <td>...</td>\n",
       "      <td>...</td>\n",
       "      <td>...</td>\n",
       "      <td>...</td>\n",
       "      <td>...</td>\n",
       "      <td>...</td>\n",
       "      <td>...</td>\n",
       "      <td>...</td>\n",
       "      <td>...</td>\n",
       "      <td>...</td>\n",
       "    </tr>\n",
       "    <tr>\n",
       "      <th>9795</th>\n",
       "      <td>9796</td>\n",
       "      <td>CA-2017-125920</td>\n",
       "      <td>21/05/2017</td>\n",
       "      <td>28/05/2017</td>\n",
       "      <td>Standard Class</td>\n",
       "      <td>SH-19975</td>\n",
       "      <td>Sally Hughsby</td>\n",
       "      <td>Corporate</td>\n",
       "      <td>United States</td>\n",
       "      <td>Chicago</td>\n",
       "      <td>Illinois</td>\n",
       "      <td>60610.0</td>\n",
       "      <td>Central</td>\n",
       "      <td>OFF-BI-10003429</td>\n",
       "      <td>Office Supplies</td>\n",
       "      <td>Binders</td>\n",
       "      <td>Cardinal HOLDit! Binder Insert Strips,Extra St...</td>\n",
       "      <td>3.7980</td>\n",
       "    </tr>\n",
       "    <tr>\n",
       "      <th>9796</th>\n",
       "      <td>9797</td>\n",
       "      <td>CA-2016-128608</td>\n",
       "      <td>12/01/2016</td>\n",
       "      <td>17/01/2016</td>\n",
       "      <td>Standard Class</td>\n",
       "      <td>CS-12490</td>\n",
       "      <td>Cindy Schnelling</td>\n",
       "      <td>Corporate</td>\n",
       "      <td>United States</td>\n",
       "      <td>Toledo</td>\n",
       "      <td>Ohio</td>\n",
       "      <td>43615.0</td>\n",
       "      <td>East</td>\n",
       "      <td>OFF-AR-10001374</td>\n",
       "      <td>Office Supplies</td>\n",
       "      <td>Art</td>\n",
       "      <td>BIC Brite Liner Highlighters, Chisel Tip</td>\n",
       "      <td>10.3680</td>\n",
       "    </tr>\n",
       "    <tr>\n",
       "      <th>9797</th>\n",
       "      <td>9798</td>\n",
       "      <td>CA-2016-128608</td>\n",
       "      <td>12/01/2016</td>\n",
       "      <td>17/01/2016</td>\n",
       "      <td>Standard Class</td>\n",
       "      <td>CS-12490</td>\n",
       "      <td>Cindy Schnelling</td>\n",
       "      <td>Corporate</td>\n",
       "      <td>United States</td>\n",
       "      <td>Toledo</td>\n",
       "      <td>Ohio</td>\n",
       "      <td>43615.0</td>\n",
       "      <td>East</td>\n",
       "      <td>TEC-PH-10004977</td>\n",
       "      <td>Technology</td>\n",
       "      <td>Phones</td>\n",
       "      <td>GE 30524EE4</td>\n",
       "      <td>235.1880</td>\n",
       "    </tr>\n",
       "    <tr>\n",
       "      <th>9798</th>\n",
       "      <td>9799</td>\n",
       "      <td>CA-2016-128608</td>\n",
       "      <td>12/01/2016</td>\n",
       "      <td>17/01/2016</td>\n",
       "      <td>Standard Class</td>\n",
       "      <td>CS-12490</td>\n",
       "      <td>Cindy Schnelling</td>\n",
       "      <td>Corporate</td>\n",
       "      <td>United States</td>\n",
       "      <td>Toledo</td>\n",
       "      <td>Ohio</td>\n",
       "      <td>43615.0</td>\n",
       "      <td>East</td>\n",
       "      <td>TEC-PH-10000912</td>\n",
       "      <td>Technology</td>\n",
       "      <td>Phones</td>\n",
       "      <td>Anker 24W Portable Micro USB Car Charger</td>\n",
       "      <td>26.3760</td>\n",
       "    </tr>\n",
       "    <tr>\n",
       "      <th>9799</th>\n",
       "      <td>9800</td>\n",
       "      <td>CA-2016-128608</td>\n",
       "      <td>12/01/2016</td>\n",
       "      <td>17/01/2016</td>\n",
       "      <td>Standard Class</td>\n",
       "      <td>CS-12490</td>\n",
       "      <td>Cindy Schnelling</td>\n",
       "      <td>Corporate</td>\n",
       "      <td>United States</td>\n",
       "      <td>Toledo</td>\n",
       "      <td>Ohio</td>\n",
       "      <td>43615.0</td>\n",
       "      <td>East</td>\n",
       "      <td>TEC-AC-10000487</td>\n",
       "      <td>Technology</td>\n",
       "      <td>Accessories</td>\n",
       "      <td>SanDisk Cruzer 4 GB USB Flash Drive</td>\n",
       "      <td>10.3840</td>\n",
       "    </tr>\n",
       "  </tbody>\n",
       "</table>\n",
       "<p>9800 rows × 18 columns</p>\n",
       "</div>"
      ],
      "text/plain": [
       "      Row ID        Order ID  Order Date   Ship Date       Ship Mode  \\\n",
       "0          1  CA-2017-152156  08/11/2017  11/11/2017    Second Class   \n",
       "1          2  CA-2017-152156  08/11/2017  11/11/2017    Second Class   \n",
       "2          3  CA-2017-138688  12/06/2017  16/06/2017    Second Class   \n",
       "3          4  US-2016-108966  11/10/2016  18/10/2016  Standard Class   \n",
       "4          5  US-2016-108966  11/10/2016  18/10/2016  Standard Class   \n",
       "...      ...             ...         ...         ...             ...   \n",
       "9795    9796  CA-2017-125920  21/05/2017  28/05/2017  Standard Class   \n",
       "9796    9797  CA-2016-128608  12/01/2016  17/01/2016  Standard Class   \n",
       "9797    9798  CA-2016-128608  12/01/2016  17/01/2016  Standard Class   \n",
       "9798    9799  CA-2016-128608  12/01/2016  17/01/2016  Standard Class   \n",
       "9799    9800  CA-2016-128608  12/01/2016  17/01/2016  Standard Class   \n",
       "\n",
       "     Customer ID     Customer Name    Segment        Country             City  \\\n",
       "0       CG-12520       Claire Gute   Consumer  United States        Henderson   \n",
       "1       CG-12520       Claire Gute   Consumer  United States        Henderson   \n",
       "2       DV-13045   Darrin Van Huff  Corporate  United States      Los Angeles   \n",
       "3       SO-20335    Sean O'Donnell   Consumer  United States  Fort Lauderdale   \n",
       "4       SO-20335    Sean O'Donnell   Consumer  United States  Fort Lauderdale   \n",
       "...          ...               ...        ...            ...              ...   \n",
       "9795    SH-19975     Sally Hughsby  Corporate  United States          Chicago   \n",
       "9796    CS-12490  Cindy Schnelling  Corporate  United States           Toledo   \n",
       "9797    CS-12490  Cindy Schnelling  Corporate  United States           Toledo   \n",
       "9798    CS-12490  Cindy Schnelling  Corporate  United States           Toledo   \n",
       "9799    CS-12490  Cindy Schnelling  Corporate  United States           Toledo   \n",
       "\n",
       "           State  Postal Code   Region       Product ID         Category  \\\n",
       "0       Kentucky      42420.0    South  FUR-BO-10001798        Furniture   \n",
       "1       Kentucky      42420.0    South  FUR-CH-10000454        Furniture   \n",
       "2     California      90036.0     West  OFF-LA-10000240  Office Supplies   \n",
       "3        Florida      33311.0    South  FUR-TA-10000577        Furniture   \n",
       "4        Florida      33311.0    South  OFF-ST-10000760  Office Supplies   \n",
       "...          ...          ...      ...              ...              ...   \n",
       "9795    Illinois      60610.0  Central  OFF-BI-10003429  Office Supplies   \n",
       "9796        Ohio      43615.0     East  OFF-AR-10001374  Office Supplies   \n",
       "9797        Ohio      43615.0     East  TEC-PH-10004977       Technology   \n",
       "9798        Ohio      43615.0     East  TEC-PH-10000912       Technology   \n",
       "9799        Ohio      43615.0     East  TEC-AC-10000487       Technology   \n",
       "\n",
       "     Sub-Category                                       Product Name     Sales  \n",
       "0       Bookcases                  Bush Somerset Collection Bookcase  261.9600  \n",
       "1          Chairs  Hon Deluxe Fabric Upholstered Stacking Chairs,...  731.9400  \n",
       "2          Labels  Self-Adhesive Address Labels for Typewriters b...   14.6200  \n",
       "3          Tables      Bretford CR4500 Series Slim Rectangular Table  957.5775  \n",
       "4         Storage                     Eldon Fold 'N Roll Cart System   22.3680  \n",
       "...           ...                                                ...       ...  \n",
       "9795      Binders  Cardinal HOLDit! Binder Insert Strips,Extra St...    3.7980  \n",
       "9796          Art           BIC Brite Liner Highlighters, Chisel Tip   10.3680  \n",
       "9797       Phones                                        GE 30524EE4  235.1880  \n",
       "9798       Phones           Anker 24W Portable Micro USB Car Charger   26.3760  \n",
       "9799  Accessories                SanDisk Cruzer 4 GB USB Flash Drive   10.3840  \n",
       "\n",
       "[9800 rows x 18 columns]"
      ]
     },
     "execution_count": 3,
     "metadata": {},
     "output_type": "execute_result"
    }
   ],
   "source": [
    "df=pd.read_csv(\"D://vscode//jupyter notebook//sales prediction//train.csv\")\n",
    "df"
   ]
  },
  {
   "cell_type": "code",
   "execution_count": 4,
   "metadata": {},
   "outputs": [
    {
     "data": {
      "text/html": [
       "<div>\n",
       "<style scoped>\n",
       "    .dataframe tbody tr th:only-of-type {\n",
       "        vertical-align: middle;\n",
       "    }\n",
       "\n",
       "    .dataframe tbody tr th {\n",
       "        vertical-align: top;\n",
       "    }\n",
       "\n",
       "    .dataframe thead th {\n",
       "        text-align: right;\n",
       "    }\n",
       "</style>\n",
       "<table border=\"1\" class=\"dataframe\">\n",
       "  <thead>\n",
       "    <tr style=\"text-align: right;\">\n",
       "      <th></th>\n",
       "      <th>Row ID</th>\n",
       "      <th>Order ID</th>\n",
       "      <th>Order Date</th>\n",
       "      <th>Ship Date</th>\n",
       "      <th>Ship Mode</th>\n",
       "      <th>Customer ID</th>\n",
       "      <th>Customer Name</th>\n",
       "      <th>Segment</th>\n",
       "      <th>Country</th>\n",
       "      <th>City</th>\n",
       "      <th>State</th>\n",
       "      <th>Postal Code</th>\n",
       "      <th>Region</th>\n",
       "      <th>Product ID</th>\n",
       "      <th>Category</th>\n",
       "      <th>Sub-Category</th>\n",
       "      <th>Product Name</th>\n",
       "      <th>Sales</th>\n",
       "    </tr>\n",
       "  </thead>\n",
       "  <tbody>\n",
       "    <tr>\n",
       "      <th>0</th>\n",
       "      <td>1</td>\n",
       "      <td>CA-2017-152156</td>\n",
       "      <td>08/11/2017</td>\n",
       "      <td>11/11/2017</td>\n",
       "      <td>Second Class</td>\n",
       "      <td>CG-12520</td>\n",
       "      <td>Claire Gute</td>\n",
       "      <td>Consumer</td>\n",
       "      <td>United States</td>\n",
       "      <td>Henderson</td>\n",
       "      <td>Kentucky</td>\n",
       "      <td>42420.0</td>\n",
       "      <td>South</td>\n",
       "      <td>FUR-BO-10001798</td>\n",
       "      <td>Furniture</td>\n",
       "      <td>Bookcases</td>\n",
       "      <td>Bush Somerset Collection Bookcase</td>\n",
       "      <td>261.9600</td>\n",
       "    </tr>\n",
       "    <tr>\n",
       "      <th>1</th>\n",
       "      <td>2</td>\n",
       "      <td>CA-2017-152156</td>\n",
       "      <td>08/11/2017</td>\n",
       "      <td>11/11/2017</td>\n",
       "      <td>Second Class</td>\n",
       "      <td>CG-12520</td>\n",
       "      <td>Claire Gute</td>\n",
       "      <td>Consumer</td>\n",
       "      <td>United States</td>\n",
       "      <td>Henderson</td>\n",
       "      <td>Kentucky</td>\n",
       "      <td>42420.0</td>\n",
       "      <td>South</td>\n",
       "      <td>FUR-CH-10000454</td>\n",
       "      <td>Furniture</td>\n",
       "      <td>Chairs</td>\n",
       "      <td>Hon Deluxe Fabric Upholstered Stacking Chairs,...</td>\n",
       "      <td>731.9400</td>\n",
       "    </tr>\n",
       "    <tr>\n",
       "      <th>2</th>\n",
       "      <td>3</td>\n",
       "      <td>CA-2017-138688</td>\n",
       "      <td>12/06/2017</td>\n",
       "      <td>16/06/2017</td>\n",
       "      <td>Second Class</td>\n",
       "      <td>DV-13045</td>\n",
       "      <td>Darrin Van Huff</td>\n",
       "      <td>Corporate</td>\n",
       "      <td>United States</td>\n",
       "      <td>Los Angeles</td>\n",
       "      <td>California</td>\n",
       "      <td>90036.0</td>\n",
       "      <td>West</td>\n",
       "      <td>OFF-LA-10000240</td>\n",
       "      <td>Office Supplies</td>\n",
       "      <td>Labels</td>\n",
       "      <td>Self-Adhesive Address Labels for Typewriters b...</td>\n",
       "      <td>14.6200</td>\n",
       "    </tr>\n",
       "    <tr>\n",
       "      <th>3</th>\n",
       "      <td>4</td>\n",
       "      <td>US-2016-108966</td>\n",
       "      <td>11/10/2016</td>\n",
       "      <td>18/10/2016</td>\n",
       "      <td>Standard Class</td>\n",
       "      <td>SO-20335</td>\n",
       "      <td>Sean O'Donnell</td>\n",
       "      <td>Consumer</td>\n",
       "      <td>United States</td>\n",
       "      <td>Fort Lauderdale</td>\n",
       "      <td>Florida</td>\n",
       "      <td>33311.0</td>\n",
       "      <td>South</td>\n",
       "      <td>FUR-TA-10000577</td>\n",
       "      <td>Furniture</td>\n",
       "      <td>Tables</td>\n",
       "      <td>Bretford CR4500 Series Slim Rectangular Table</td>\n",
       "      <td>957.5775</td>\n",
       "    </tr>\n",
       "    <tr>\n",
       "      <th>4</th>\n",
       "      <td>5</td>\n",
       "      <td>US-2016-108966</td>\n",
       "      <td>11/10/2016</td>\n",
       "      <td>18/10/2016</td>\n",
       "      <td>Standard Class</td>\n",
       "      <td>SO-20335</td>\n",
       "      <td>Sean O'Donnell</td>\n",
       "      <td>Consumer</td>\n",
       "      <td>United States</td>\n",
       "      <td>Fort Lauderdale</td>\n",
       "      <td>Florida</td>\n",
       "      <td>33311.0</td>\n",
       "      <td>South</td>\n",
       "      <td>OFF-ST-10000760</td>\n",
       "      <td>Office Supplies</td>\n",
       "      <td>Storage</td>\n",
       "      <td>Eldon Fold 'N Roll Cart System</td>\n",
       "      <td>22.3680</td>\n",
       "    </tr>\n",
       "  </tbody>\n",
       "</table>\n",
       "</div>"
      ],
      "text/plain": [
       "   Row ID        Order ID  Order Date   Ship Date       Ship Mode Customer ID  \\\n",
       "0       1  CA-2017-152156  08/11/2017  11/11/2017    Second Class    CG-12520   \n",
       "1       2  CA-2017-152156  08/11/2017  11/11/2017    Second Class    CG-12520   \n",
       "2       3  CA-2017-138688  12/06/2017  16/06/2017    Second Class    DV-13045   \n",
       "3       4  US-2016-108966  11/10/2016  18/10/2016  Standard Class    SO-20335   \n",
       "4       5  US-2016-108966  11/10/2016  18/10/2016  Standard Class    SO-20335   \n",
       "\n",
       "     Customer Name    Segment        Country             City       State  \\\n",
       "0      Claire Gute   Consumer  United States        Henderson    Kentucky   \n",
       "1      Claire Gute   Consumer  United States        Henderson    Kentucky   \n",
       "2  Darrin Van Huff  Corporate  United States      Los Angeles  California   \n",
       "3   Sean O'Donnell   Consumer  United States  Fort Lauderdale     Florida   \n",
       "4   Sean O'Donnell   Consumer  United States  Fort Lauderdale     Florida   \n",
       "\n",
       "   Postal Code Region       Product ID         Category Sub-Category  \\\n",
       "0      42420.0  South  FUR-BO-10001798        Furniture    Bookcases   \n",
       "1      42420.0  South  FUR-CH-10000454        Furniture       Chairs   \n",
       "2      90036.0   West  OFF-LA-10000240  Office Supplies       Labels   \n",
       "3      33311.0  South  FUR-TA-10000577        Furniture       Tables   \n",
       "4      33311.0  South  OFF-ST-10000760  Office Supplies      Storage   \n",
       "\n",
       "                                        Product Name     Sales  \n",
       "0                  Bush Somerset Collection Bookcase  261.9600  \n",
       "1  Hon Deluxe Fabric Upholstered Stacking Chairs,...  731.9400  \n",
       "2  Self-Adhesive Address Labels for Typewriters b...   14.6200  \n",
       "3      Bretford CR4500 Series Slim Rectangular Table  957.5775  \n",
       "4                     Eldon Fold 'N Roll Cart System   22.3680  "
      ]
     },
     "execution_count": 4,
     "metadata": {},
     "output_type": "execute_result"
    }
   ],
   "source": [
    "# Describe data\n",
    "df.head()"
   ]
  },
  {
   "cell_type": "code",
   "execution_count": 5,
   "metadata": {},
   "outputs": [
    {
     "name": "stdout",
     "output_type": "stream",
     "text": [
      "<class 'pandas.core.frame.DataFrame'>\n",
      "RangeIndex: 9800 entries, 0 to 9799\n",
      "Data columns (total 18 columns):\n",
      " #   Column         Non-Null Count  Dtype  \n",
      "---  ------         --------------  -----  \n",
      " 0   Row ID         9800 non-null   int64  \n",
      " 1   Order ID       9800 non-null   object \n",
      " 2   Order Date     9800 non-null   object \n",
      " 3   Ship Date      9800 non-null   object \n",
      " 4   Ship Mode      9800 non-null   object \n",
      " 5   Customer ID    9800 non-null   object \n",
      " 6   Customer Name  9800 non-null   object \n",
      " 7   Segment        9800 non-null   object \n",
      " 8   Country        9800 non-null   object \n",
      " 9   City           9800 non-null   object \n",
      " 10  State          9800 non-null   object \n",
      " 11  Postal Code    9789 non-null   float64\n",
      " 12  Region         9800 non-null   object \n",
      " 13  Product ID     9800 non-null   object \n",
      " 14  Category       9800 non-null   object \n",
      " 15  Sub-Category   9800 non-null   object \n",
      " 16  Product Name   9800 non-null   object \n",
      " 17  Sales          9800 non-null   float64\n",
      "dtypes: float64(2), int64(1), object(15)\n",
      "memory usage: 1.3+ MB\n"
     ]
    }
   ],
   "source": [
    "df.info()"
   ]
  },
  {
   "cell_type": "code",
   "execution_count": 6,
   "metadata": {},
   "outputs": [
    {
     "data": {
      "text/html": [
       "<div>\n",
       "<style scoped>\n",
       "    .dataframe tbody tr th:only-of-type {\n",
       "        vertical-align: middle;\n",
       "    }\n",
       "\n",
       "    .dataframe tbody tr th {\n",
       "        vertical-align: top;\n",
       "    }\n",
       "\n",
       "    .dataframe thead th {\n",
       "        text-align: right;\n",
       "    }\n",
       "</style>\n",
       "<table border=\"1\" class=\"dataframe\">\n",
       "  <thead>\n",
       "    <tr style=\"text-align: right;\">\n",
       "      <th></th>\n",
       "      <th>Row ID</th>\n",
       "      <th>Postal Code</th>\n",
       "      <th>Sales</th>\n",
       "    </tr>\n",
       "  </thead>\n",
       "  <tbody>\n",
       "    <tr>\n",
       "      <th>count</th>\n",
       "      <td>9800.0</td>\n",
       "      <td>9789.0</td>\n",
       "      <td>9800.0</td>\n",
       "    </tr>\n",
       "    <tr>\n",
       "      <th>mean</th>\n",
       "      <td>4900.0</td>\n",
       "      <td>55273.0</td>\n",
       "      <td>231.0</td>\n",
       "    </tr>\n",
       "    <tr>\n",
       "      <th>std</th>\n",
       "      <td>2829.0</td>\n",
       "      <td>32041.0</td>\n",
       "      <td>627.0</td>\n",
       "    </tr>\n",
       "    <tr>\n",
       "      <th>min</th>\n",
       "      <td>1.0</td>\n",
       "      <td>1040.0</td>\n",
       "      <td>0.0</td>\n",
       "    </tr>\n",
       "    <tr>\n",
       "      <th>25%</th>\n",
       "      <td>2451.0</td>\n",
       "      <td>23223.0</td>\n",
       "      <td>17.0</td>\n",
       "    </tr>\n",
       "    <tr>\n",
       "      <th>50%</th>\n",
       "      <td>4900.0</td>\n",
       "      <td>58103.0</td>\n",
       "      <td>54.0</td>\n",
       "    </tr>\n",
       "    <tr>\n",
       "      <th>75%</th>\n",
       "      <td>7350.0</td>\n",
       "      <td>90008.0</td>\n",
       "      <td>211.0</td>\n",
       "    </tr>\n",
       "    <tr>\n",
       "      <th>max</th>\n",
       "      <td>9800.0</td>\n",
       "      <td>99301.0</td>\n",
       "      <td>22638.0</td>\n",
       "    </tr>\n",
       "  </tbody>\n",
       "</table>\n",
       "</div>"
      ],
      "text/plain": [
       "       Row ID  Postal Code    Sales\n",
       "count  9800.0       9789.0   9800.0\n",
       "mean   4900.0      55273.0    231.0\n",
       "std    2829.0      32041.0    627.0\n",
       "min       1.0       1040.0      0.0\n",
       "25%    2451.0      23223.0     17.0\n",
       "50%    4900.0      58103.0     54.0\n",
       "75%    7350.0      90008.0    211.0\n",
       "max    9800.0      99301.0  22638.0"
      ]
     },
     "execution_count": 6,
     "metadata": {},
     "output_type": "execute_result"
    }
   ],
   "source": [
    "df.describe().round()"
   ]
  },
  {
   "cell_type": "code",
   "execution_count": 7,
   "metadata": {},
   "outputs": [
    {
     "data": {
      "text/html": [
       "<div>\n",
       "<style scoped>\n",
       "    .dataframe tbody tr th:only-of-type {\n",
       "        vertical-align: middle;\n",
       "    }\n",
       "\n",
       "    .dataframe tbody tr th {\n",
       "        vertical-align: top;\n",
       "    }\n",
       "\n",
       "    .dataframe thead th {\n",
       "        text-align: right;\n",
       "    }\n",
       "</style>\n",
       "<table border=\"1\" class=\"dataframe\">\n",
       "  <thead>\n",
       "    <tr style=\"text-align: right;\">\n",
       "      <th></th>\n",
       "      <th>Order ID</th>\n",
       "      <th>Order Date</th>\n",
       "      <th>Ship Date</th>\n",
       "      <th>Ship Mode</th>\n",
       "      <th>Customer ID</th>\n",
       "      <th>Customer Name</th>\n",
       "      <th>Segment</th>\n",
       "      <th>Country</th>\n",
       "      <th>City</th>\n",
       "      <th>State</th>\n",
       "      <th>Region</th>\n",
       "      <th>Product ID</th>\n",
       "      <th>Category</th>\n",
       "      <th>Sub-Category</th>\n",
       "      <th>Product Name</th>\n",
       "    </tr>\n",
       "  </thead>\n",
       "  <tbody>\n",
       "    <tr>\n",
       "      <th>count</th>\n",
       "      <td>9800</td>\n",
       "      <td>9800</td>\n",
       "      <td>9800</td>\n",
       "      <td>9800</td>\n",
       "      <td>9800</td>\n",
       "      <td>9800</td>\n",
       "      <td>9800</td>\n",
       "      <td>9800</td>\n",
       "      <td>9800</td>\n",
       "      <td>9800</td>\n",
       "      <td>9800</td>\n",
       "      <td>9800</td>\n",
       "      <td>9800</td>\n",
       "      <td>9800</td>\n",
       "      <td>9800</td>\n",
       "    </tr>\n",
       "    <tr>\n",
       "      <th>unique</th>\n",
       "      <td>4922</td>\n",
       "      <td>1230</td>\n",
       "      <td>1326</td>\n",
       "      <td>4</td>\n",
       "      <td>793</td>\n",
       "      <td>793</td>\n",
       "      <td>3</td>\n",
       "      <td>1</td>\n",
       "      <td>529</td>\n",
       "      <td>49</td>\n",
       "      <td>4</td>\n",
       "      <td>1861</td>\n",
       "      <td>3</td>\n",
       "      <td>17</td>\n",
       "      <td>1849</td>\n",
       "    </tr>\n",
       "    <tr>\n",
       "      <th>top</th>\n",
       "      <td>CA-2018-100111</td>\n",
       "      <td>05/09/2017</td>\n",
       "      <td>26/09/2018</td>\n",
       "      <td>Standard Class</td>\n",
       "      <td>WB-21850</td>\n",
       "      <td>William Brown</td>\n",
       "      <td>Consumer</td>\n",
       "      <td>United States</td>\n",
       "      <td>New York City</td>\n",
       "      <td>California</td>\n",
       "      <td>West</td>\n",
       "      <td>OFF-PA-10001970</td>\n",
       "      <td>Office Supplies</td>\n",
       "      <td>Binders</td>\n",
       "      <td>Staple envelope</td>\n",
       "    </tr>\n",
       "    <tr>\n",
       "      <th>freq</th>\n",
       "      <td>14</td>\n",
       "      <td>38</td>\n",
       "      <td>34</td>\n",
       "      <td>5859</td>\n",
       "      <td>35</td>\n",
       "      <td>35</td>\n",
       "      <td>5101</td>\n",
       "      <td>9800</td>\n",
       "      <td>891</td>\n",
       "      <td>1946</td>\n",
       "      <td>3140</td>\n",
       "      <td>19</td>\n",
       "      <td>5909</td>\n",
       "      <td>1492</td>\n",
       "      <td>47</td>\n",
       "    </tr>\n",
       "  </tbody>\n",
       "</table>\n",
       "</div>"
      ],
      "text/plain": [
       "              Order ID  Order Date   Ship Date       Ship Mode Customer ID  \\\n",
       "count             9800        9800        9800            9800        9800   \n",
       "unique            4922        1230        1326               4         793   \n",
       "top     CA-2018-100111  05/09/2017  26/09/2018  Standard Class    WB-21850   \n",
       "freq                14          38          34            5859          35   \n",
       "\n",
       "        Customer Name   Segment        Country           City       State  \\\n",
       "count            9800      9800           9800           9800        9800   \n",
       "unique            793         3              1            529          49   \n",
       "top     William Brown  Consumer  United States  New York City  California   \n",
       "freq               35      5101           9800            891        1946   \n",
       "\n",
       "       Region       Product ID         Category Sub-Category     Product Name  \n",
       "count    9800             9800             9800         9800             9800  \n",
       "unique      4             1861                3           17             1849  \n",
       "top      West  OFF-PA-10001970  Office Supplies      Binders  Staple envelope  \n",
       "freq     3140               19             5909         1492               47  "
      ]
     },
     "execution_count": 7,
     "metadata": {},
     "output_type": "execute_result"
    }
   ],
   "source": [
    "df.describe(include=\"O\")"
   ]
  },
  {
   "cell_type": "code",
   "execution_count": 8,
   "metadata": {},
   "outputs": [
    {
     "data": {
      "text/plain": [
       "Ship Mode\n",
       "Standard Class    5859\n",
       "Second Class      1902\n",
       "First Class       1501\n",
       "Same Day           538\n",
       "Name: count, dtype: int64"
      ]
     },
     "execution_count": 8,
     "metadata": {},
     "output_type": "execute_result"
    }
   ],
   "source": [
    "df[\"Ship Mode\"].value_counts()"
   ]
  },
  {
   "cell_type": "code",
   "execution_count": 9,
   "metadata": {},
   "outputs": [
    {
     "data": {
      "text/plain": [
       "Segment\n",
       "Consumer       5101\n",
       "Corporate      2953\n",
       "Home Office    1746\n",
       "Name: count, dtype: int64"
      ]
     },
     "execution_count": 9,
     "metadata": {},
     "output_type": "execute_result"
    }
   ],
   "source": [
    "df[\"Segment\"].value_counts()"
   ]
  },
  {
   "cell_type": "code",
   "execution_count": 10,
   "metadata": {},
   "outputs": [
    {
     "data": {
      "text/plain": [
       "['Row ID',\n",
       " 'Order ID',\n",
       " 'Order Date',\n",
       " 'Ship Date',\n",
       " 'Ship Mode',\n",
       " 'Customer ID',\n",
       " 'Customer Name',\n",
       " 'Segment',\n",
       " 'Country',\n",
       " 'City',\n",
       " 'State',\n",
       " 'Postal Code',\n",
       " 'Region',\n",
       " 'Product ID',\n",
       " 'Category',\n",
       " 'Sub-Category',\n",
       " 'Product Name',\n",
       " 'Sales']"
      ]
     },
     "execution_count": 10,
     "metadata": {},
     "output_type": "execute_result"
    }
   ],
   "source": [
    "df.columns.to_list()"
   ]
  },
  {
   "cell_type": "code",
   "execution_count": 11,
   "metadata": {},
   "outputs": [
    {
     "data": {
      "text/plain": [
       "Row ID            0\n",
       "Order ID          0\n",
       "Order Date        0\n",
       "Ship Date         0\n",
       "Ship Mode         0\n",
       "Customer ID       0\n",
       "Customer Name     0\n",
       "Segment           0\n",
       "Country           0\n",
       "City              0\n",
       "State             0\n",
       "Postal Code      11\n",
       "Region            0\n",
       "Product ID        0\n",
       "Category          0\n",
       "Sub-Category      0\n",
       "Product Name      0\n",
       "Sales             0\n",
       "dtype: int64"
      ]
     },
     "execution_count": 11,
     "metadata": {},
     "output_type": "execute_result"
    }
   ],
   "source": [
    "#missing value\n",
    "df.isnull().sum()"
   ]
  },
  {
   "cell_type": "code",
   "execution_count": 12,
   "metadata": {},
   "outputs": [
    {
     "data": {
      "text/plain": [
       "Row ID            0\n",
       "Order ID          0\n",
       "Order Date        0\n",
       "Ship Date         0\n",
       "Ship Mode         0\n",
       "Customer ID       0\n",
       "Customer Name     0\n",
       "Segment           0\n",
       "Country           0\n",
       "City              0\n",
       "State             0\n",
       "Postal Code      11\n",
       "Region            0\n",
       "Product ID        0\n",
       "Category          0\n",
       "Sub-Category      0\n",
       "Product Name      0\n",
       "Sales             0\n",
       "dtype: int64"
      ]
     },
     "execution_count": 12,
     "metadata": {},
     "output_type": "execute_result"
    }
   ],
   "source": [
    "df.isna().sum()"
   ]
  },
  {
   "cell_type": "code",
   "execution_count": 13,
   "metadata": {},
   "outputs": [
    {
     "data": {
      "text/html": [
       "<div>\n",
       "<style scoped>\n",
       "    .dataframe tbody tr th:only-of-type {\n",
       "        vertical-align: middle;\n",
       "    }\n",
       "\n",
       "    .dataframe tbody tr th {\n",
       "        vertical-align: top;\n",
       "    }\n",
       "\n",
       "    .dataframe thead th {\n",
       "        text-align: right;\n",
       "    }\n",
       "</style>\n",
       "<table border=\"1\" class=\"dataframe\">\n",
       "  <thead>\n",
       "    <tr style=\"text-align: right;\">\n",
       "      <th></th>\n",
       "      <th>Row ID</th>\n",
       "      <th>Order ID</th>\n",
       "      <th>Order Date</th>\n",
       "      <th>Ship Date</th>\n",
       "      <th>Ship Mode</th>\n",
       "      <th>Customer ID</th>\n",
       "      <th>Customer Name</th>\n",
       "      <th>Segment</th>\n",
       "      <th>Country</th>\n",
       "      <th>City</th>\n",
       "      <th>State</th>\n",
       "      <th>Postal Code</th>\n",
       "      <th>Region</th>\n",
       "      <th>Product ID</th>\n",
       "      <th>Category</th>\n",
       "      <th>Sub-Category</th>\n",
       "      <th>Product Name</th>\n",
       "      <th>Sales</th>\n",
       "    </tr>\n",
       "  </thead>\n",
       "  <tbody>\n",
       "    <tr>\n",
       "      <th>2234</th>\n",
       "      <td>2235</td>\n",
       "      <td>CA-2018-104066</td>\n",
       "      <td>05/12/2018</td>\n",
       "      <td>10/12/2018</td>\n",
       "      <td>Standard Class</td>\n",
       "      <td>QJ-19255</td>\n",
       "      <td>Quincy Jones</td>\n",
       "      <td>Corporate</td>\n",
       "      <td>United States</td>\n",
       "      <td>Burlington</td>\n",
       "      <td>Vermont</td>\n",
       "      <td>NaN</td>\n",
       "      <td>East</td>\n",
       "      <td>TEC-AC-10001013</td>\n",
       "      <td>Technology</td>\n",
       "      <td>Accessories</td>\n",
       "      <td>Logitech ClearChat Comfort/USB Headset H390</td>\n",
       "      <td>205.03</td>\n",
       "    </tr>\n",
       "    <tr>\n",
       "      <th>5274</th>\n",
       "      <td>5275</td>\n",
       "      <td>CA-2016-162887</td>\n",
       "      <td>07/11/2016</td>\n",
       "      <td>09/11/2016</td>\n",
       "      <td>Second Class</td>\n",
       "      <td>SV-20785</td>\n",
       "      <td>Stewart Visinsky</td>\n",
       "      <td>Consumer</td>\n",
       "      <td>United States</td>\n",
       "      <td>Burlington</td>\n",
       "      <td>Vermont</td>\n",
       "      <td>NaN</td>\n",
       "      <td>East</td>\n",
       "      <td>FUR-CH-10000595</td>\n",
       "      <td>Furniture</td>\n",
       "      <td>Chairs</td>\n",
       "      <td>Safco Contoured Stacking Chairs</td>\n",
       "      <td>715.20</td>\n",
       "    </tr>\n",
       "    <tr>\n",
       "      <th>8798</th>\n",
       "      <td>8799</td>\n",
       "      <td>US-2017-150140</td>\n",
       "      <td>06/04/2017</td>\n",
       "      <td>10/04/2017</td>\n",
       "      <td>Standard Class</td>\n",
       "      <td>VM-21685</td>\n",
       "      <td>Valerie Mitchum</td>\n",
       "      <td>Home Office</td>\n",
       "      <td>United States</td>\n",
       "      <td>Burlington</td>\n",
       "      <td>Vermont</td>\n",
       "      <td>NaN</td>\n",
       "      <td>East</td>\n",
       "      <td>TEC-PH-10002555</td>\n",
       "      <td>Technology</td>\n",
       "      <td>Phones</td>\n",
       "      <td>Nortel Meridian M5316 Digital phone</td>\n",
       "      <td>1294.75</td>\n",
       "    </tr>\n",
       "    <tr>\n",
       "      <th>9146</th>\n",
       "      <td>9147</td>\n",
       "      <td>US-2017-165505</td>\n",
       "      <td>23/01/2017</td>\n",
       "      <td>27/01/2017</td>\n",
       "      <td>Standard Class</td>\n",
       "      <td>CB-12535</td>\n",
       "      <td>Claudia Bergmann</td>\n",
       "      <td>Corporate</td>\n",
       "      <td>United States</td>\n",
       "      <td>Burlington</td>\n",
       "      <td>Vermont</td>\n",
       "      <td>NaN</td>\n",
       "      <td>East</td>\n",
       "      <td>TEC-AC-10002926</td>\n",
       "      <td>Technology</td>\n",
       "      <td>Accessories</td>\n",
       "      <td>Logitech Wireless Marathon Mouse M705</td>\n",
       "      <td>99.98</td>\n",
       "    </tr>\n",
       "    <tr>\n",
       "      <th>9147</th>\n",
       "      <td>9148</td>\n",
       "      <td>US-2017-165505</td>\n",
       "      <td>23/01/2017</td>\n",
       "      <td>27/01/2017</td>\n",
       "      <td>Standard Class</td>\n",
       "      <td>CB-12535</td>\n",
       "      <td>Claudia Bergmann</td>\n",
       "      <td>Corporate</td>\n",
       "      <td>United States</td>\n",
       "      <td>Burlington</td>\n",
       "      <td>Vermont</td>\n",
       "      <td>NaN</td>\n",
       "      <td>East</td>\n",
       "      <td>OFF-AR-10003477</td>\n",
       "      <td>Office Supplies</td>\n",
       "      <td>Art</td>\n",
       "      <td>4009 Highlighters</td>\n",
       "      <td>8.04</td>\n",
       "    </tr>\n",
       "    <tr>\n",
       "      <th>9148</th>\n",
       "      <td>9149</td>\n",
       "      <td>US-2017-165505</td>\n",
       "      <td>23/01/2017</td>\n",
       "      <td>27/01/2017</td>\n",
       "      <td>Standard Class</td>\n",
       "      <td>CB-12535</td>\n",
       "      <td>Claudia Bergmann</td>\n",
       "      <td>Corporate</td>\n",
       "      <td>United States</td>\n",
       "      <td>Burlington</td>\n",
       "      <td>Vermont</td>\n",
       "      <td>NaN</td>\n",
       "      <td>East</td>\n",
       "      <td>OFF-ST-10001526</td>\n",
       "      <td>Office Supplies</td>\n",
       "      <td>Storage</td>\n",
       "      <td>Iceberg Mobile Mega Data/Printer Cart</td>\n",
       "      <td>1564.29</td>\n",
       "    </tr>\n",
       "    <tr>\n",
       "      <th>9386</th>\n",
       "      <td>9387</td>\n",
       "      <td>US-2018-127292</td>\n",
       "      <td>19/01/2018</td>\n",
       "      <td>23/01/2018</td>\n",
       "      <td>Standard Class</td>\n",
       "      <td>RM-19375</td>\n",
       "      <td>Raymond Messe</td>\n",
       "      <td>Consumer</td>\n",
       "      <td>United States</td>\n",
       "      <td>Burlington</td>\n",
       "      <td>Vermont</td>\n",
       "      <td>NaN</td>\n",
       "      <td>East</td>\n",
       "      <td>OFF-PA-10000157</td>\n",
       "      <td>Office Supplies</td>\n",
       "      <td>Paper</td>\n",
       "      <td>Xerox 191</td>\n",
       "      <td>79.92</td>\n",
       "    </tr>\n",
       "    <tr>\n",
       "      <th>9387</th>\n",
       "      <td>9388</td>\n",
       "      <td>US-2018-127292</td>\n",
       "      <td>19/01/2018</td>\n",
       "      <td>23/01/2018</td>\n",
       "      <td>Standard Class</td>\n",
       "      <td>RM-19375</td>\n",
       "      <td>Raymond Messe</td>\n",
       "      <td>Consumer</td>\n",
       "      <td>United States</td>\n",
       "      <td>Burlington</td>\n",
       "      <td>Vermont</td>\n",
       "      <td>NaN</td>\n",
       "      <td>East</td>\n",
       "      <td>OFF-PA-10001970</td>\n",
       "      <td>Office Supplies</td>\n",
       "      <td>Paper</td>\n",
       "      <td>Xerox 1881</td>\n",
       "      <td>12.28</td>\n",
       "    </tr>\n",
       "    <tr>\n",
       "      <th>9388</th>\n",
       "      <td>9389</td>\n",
       "      <td>US-2018-127292</td>\n",
       "      <td>19/01/2018</td>\n",
       "      <td>23/01/2018</td>\n",
       "      <td>Standard Class</td>\n",
       "      <td>RM-19375</td>\n",
       "      <td>Raymond Messe</td>\n",
       "      <td>Consumer</td>\n",
       "      <td>United States</td>\n",
       "      <td>Burlington</td>\n",
       "      <td>Vermont</td>\n",
       "      <td>NaN</td>\n",
       "      <td>East</td>\n",
       "      <td>OFF-AP-10000828</td>\n",
       "      <td>Office Supplies</td>\n",
       "      <td>Appliances</td>\n",
       "      <td>Avanti 4.4 Cu. Ft. Refrigerator</td>\n",
       "      <td>542.94</td>\n",
       "    </tr>\n",
       "    <tr>\n",
       "      <th>9389</th>\n",
       "      <td>9390</td>\n",
       "      <td>US-2018-127292</td>\n",
       "      <td>19/01/2018</td>\n",
       "      <td>23/01/2018</td>\n",
       "      <td>Standard Class</td>\n",
       "      <td>RM-19375</td>\n",
       "      <td>Raymond Messe</td>\n",
       "      <td>Consumer</td>\n",
       "      <td>United States</td>\n",
       "      <td>Burlington</td>\n",
       "      <td>Vermont</td>\n",
       "      <td>NaN</td>\n",
       "      <td>East</td>\n",
       "      <td>OFF-EN-10001509</td>\n",
       "      <td>Office Supplies</td>\n",
       "      <td>Envelopes</td>\n",
       "      <td>Poly String Tie Envelopes</td>\n",
       "      <td>2.04</td>\n",
       "    </tr>\n",
       "    <tr>\n",
       "      <th>9741</th>\n",
       "      <td>9742</td>\n",
       "      <td>CA-2016-117086</td>\n",
       "      <td>08/11/2016</td>\n",
       "      <td>12/11/2016</td>\n",
       "      <td>Standard Class</td>\n",
       "      <td>QJ-19255</td>\n",
       "      <td>Quincy Jones</td>\n",
       "      <td>Corporate</td>\n",
       "      <td>United States</td>\n",
       "      <td>Burlington</td>\n",
       "      <td>Vermont</td>\n",
       "      <td>NaN</td>\n",
       "      <td>East</td>\n",
       "      <td>FUR-BO-10004834</td>\n",
       "      <td>Furniture</td>\n",
       "      <td>Bookcases</td>\n",
       "      <td>Riverside Palais Royal Lawyers Bookcase, Royal...</td>\n",
       "      <td>4404.90</td>\n",
       "    </tr>\n",
       "  </tbody>\n",
       "</table>\n",
       "</div>"
      ],
      "text/plain": [
       "      Row ID        Order ID  Order Date   Ship Date       Ship Mode  \\\n",
       "2234    2235  CA-2018-104066  05/12/2018  10/12/2018  Standard Class   \n",
       "5274    5275  CA-2016-162887  07/11/2016  09/11/2016    Second Class   \n",
       "8798    8799  US-2017-150140  06/04/2017  10/04/2017  Standard Class   \n",
       "9146    9147  US-2017-165505  23/01/2017  27/01/2017  Standard Class   \n",
       "9147    9148  US-2017-165505  23/01/2017  27/01/2017  Standard Class   \n",
       "9148    9149  US-2017-165505  23/01/2017  27/01/2017  Standard Class   \n",
       "9386    9387  US-2018-127292  19/01/2018  23/01/2018  Standard Class   \n",
       "9387    9388  US-2018-127292  19/01/2018  23/01/2018  Standard Class   \n",
       "9388    9389  US-2018-127292  19/01/2018  23/01/2018  Standard Class   \n",
       "9389    9390  US-2018-127292  19/01/2018  23/01/2018  Standard Class   \n",
       "9741    9742  CA-2016-117086  08/11/2016  12/11/2016  Standard Class   \n",
       "\n",
       "     Customer ID     Customer Name      Segment        Country        City  \\\n",
       "2234    QJ-19255      Quincy Jones    Corporate  United States  Burlington   \n",
       "5274    SV-20785  Stewart Visinsky     Consumer  United States  Burlington   \n",
       "8798    VM-21685   Valerie Mitchum  Home Office  United States  Burlington   \n",
       "9146    CB-12535  Claudia Bergmann    Corporate  United States  Burlington   \n",
       "9147    CB-12535  Claudia Bergmann    Corporate  United States  Burlington   \n",
       "9148    CB-12535  Claudia Bergmann    Corporate  United States  Burlington   \n",
       "9386    RM-19375     Raymond Messe     Consumer  United States  Burlington   \n",
       "9387    RM-19375     Raymond Messe     Consumer  United States  Burlington   \n",
       "9388    RM-19375     Raymond Messe     Consumer  United States  Burlington   \n",
       "9389    RM-19375     Raymond Messe     Consumer  United States  Burlington   \n",
       "9741    QJ-19255      Quincy Jones    Corporate  United States  Burlington   \n",
       "\n",
       "        State  Postal Code Region       Product ID         Category  \\\n",
       "2234  Vermont          NaN   East  TEC-AC-10001013       Technology   \n",
       "5274  Vermont          NaN   East  FUR-CH-10000595        Furniture   \n",
       "8798  Vermont          NaN   East  TEC-PH-10002555       Technology   \n",
       "9146  Vermont          NaN   East  TEC-AC-10002926       Technology   \n",
       "9147  Vermont          NaN   East  OFF-AR-10003477  Office Supplies   \n",
       "9148  Vermont          NaN   East  OFF-ST-10001526  Office Supplies   \n",
       "9386  Vermont          NaN   East  OFF-PA-10000157  Office Supplies   \n",
       "9387  Vermont          NaN   East  OFF-PA-10001970  Office Supplies   \n",
       "9388  Vermont          NaN   East  OFF-AP-10000828  Office Supplies   \n",
       "9389  Vermont          NaN   East  OFF-EN-10001509  Office Supplies   \n",
       "9741  Vermont          NaN   East  FUR-BO-10004834        Furniture   \n",
       "\n",
       "     Sub-Category                                       Product Name    Sales  \n",
       "2234  Accessories        Logitech ClearChat Comfort/USB Headset H390   205.03  \n",
       "5274       Chairs                    Safco Contoured Stacking Chairs   715.20  \n",
       "8798       Phones                Nortel Meridian M5316 Digital phone  1294.75  \n",
       "9146  Accessories              Logitech Wireless Marathon Mouse M705    99.98  \n",
       "9147          Art                                  4009 Highlighters     8.04  \n",
       "9148      Storage              Iceberg Mobile Mega Data/Printer Cart  1564.29  \n",
       "9386        Paper                                          Xerox 191    79.92  \n",
       "9387        Paper                                         Xerox 1881    12.28  \n",
       "9388   Appliances                    Avanti 4.4 Cu. Ft. Refrigerator   542.94  \n",
       "9389    Envelopes                          Poly String Tie Envelopes     2.04  \n",
       "9741    Bookcases  Riverside Palais Royal Lawyers Bookcase, Royal...  4404.90  "
      ]
     },
     "execution_count": 13,
     "metadata": {},
     "output_type": "execute_result"
    }
   ],
   "source": [
    "df[df[\"Postal Code\"].isnull()]"
   ]
  },
  {
   "cell_type": "code",
   "execution_count": 14,
   "metadata": {},
   "outputs": [],
   "source": [
    "df[\"Postal Code\"]=df[\"Postal Code\"].fillna(05401.0)"
   ]
  },
  {
   "cell_type": "code",
   "execution_count": 15,
   "metadata": {},
   "outputs": [
    {
     "data": {
      "text/plain": [
       "Row ID           0\n",
       "Order ID         0\n",
       "Order Date       0\n",
       "Ship Date        0\n",
       "Ship Mode        0\n",
       "Customer ID      0\n",
       "Customer Name    0\n",
       "Segment          0\n",
       "Country          0\n",
       "City             0\n",
       "State            0\n",
       "Postal Code      0\n",
       "Region           0\n",
       "Product ID       0\n",
       "Category         0\n",
       "Sub-Category     0\n",
       "Product Name     0\n",
       "Sales            0\n",
       "dtype: int64"
      ]
     },
     "execution_count": 15,
     "metadata": {},
     "output_type": "execute_result"
    }
   ],
   "source": [
    "df.isna().sum()\n"
   ]
  },
  {
   "cell_type": "code",
   "execution_count": 16,
   "metadata": {},
   "outputs": [
    {
     "data": {
      "text/plain": [
       "0"
      ]
     },
     "execution_count": 16,
     "metadata": {},
     "output_type": "execute_result"
    }
   ],
   "source": [
    "df.duplicated().sum()"
   ]
  },
  {
   "cell_type": "code",
   "execution_count": 17,
   "metadata": {},
   "outputs": [
    {
     "data": {
      "text/html": [
       "<div>\n",
       "<style scoped>\n",
       "    .dataframe tbody tr th:only-of-type {\n",
       "        vertical-align: middle;\n",
       "    }\n",
       "\n",
       "    .dataframe tbody tr th {\n",
       "        vertical-align: top;\n",
       "    }\n",
       "\n",
       "    .dataframe thead th {\n",
       "        text-align: right;\n",
       "    }\n",
       "</style>\n",
       "<table border=\"1\" class=\"dataframe\">\n",
       "  <thead>\n",
       "    <tr style=\"text-align: right;\">\n",
       "      <th></th>\n",
       "      <th>Row ID</th>\n",
       "      <th>Order ID</th>\n",
       "      <th>Order Date</th>\n",
       "      <th>Ship Date</th>\n",
       "      <th>Ship Mode</th>\n",
       "      <th>Customer ID</th>\n",
       "      <th>Customer Name</th>\n",
       "      <th>Segment</th>\n",
       "      <th>Country</th>\n",
       "      <th>City</th>\n",
       "      <th>State</th>\n",
       "      <th>Postal Code</th>\n",
       "      <th>Region</th>\n",
       "      <th>Product ID</th>\n",
       "      <th>Category</th>\n",
       "      <th>Sub-Category</th>\n",
       "      <th>Product Name</th>\n",
       "      <th>Sales</th>\n",
       "    </tr>\n",
       "  </thead>\n",
       "  <tbody>\n",
       "    <tr>\n",
       "      <th>0</th>\n",
       "      <td>1</td>\n",
       "      <td>CA-2017-152156</td>\n",
       "      <td>08/11/2017</td>\n",
       "      <td>11/11/2017</td>\n",
       "      <td>Second Class</td>\n",
       "      <td>CG-12520</td>\n",
       "      <td>Claire Gute</td>\n",
       "      <td>Consumer</td>\n",
       "      <td>United States</td>\n",
       "      <td>Henderson</td>\n",
       "      <td>Kentucky</td>\n",
       "      <td>42420.0</td>\n",
       "      <td>South</td>\n",
       "      <td>FUR-BO-10001798</td>\n",
       "      <td>Furniture</td>\n",
       "      <td>Bookcases</td>\n",
       "      <td>Bush Somerset Collection Bookcase</td>\n",
       "      <td>261.9600</td>\n",
       "    </tr>\n",
       "    <tr>\n",
       "      <th>1</th>\n",
       "      <td>2</td>\n",
       "      <td>CA-2017-152156</td>\n",
       "      <td>08/11/2017</td>\n",
       "      <td>11/11/2017</td>\n",
       "      <td>Second Class</td>\n",
       "      <td>CG-12520</td>\n",
       "      <td>Claire Gute</td>\n",
       "      <td>Consumer</td>\n",
       "      <td>United States</td>\n",
       "      <td>Henderson</td>\n",
       "      <td>Kentucky</td>\n",
       "      <td>42420.0</td>\n",
       "      <td>South</td>\n",
       "      <td>FUR-CH-10000454</td>\n",
       "      <td>Furniture</td>\n",
       "      <td>Chairs</td>\n",
       "      <td>Hon Deluxe Fabric Upholstered Stacking Chairs,...</td>\n",
       "      <td>731.9400</td>\n",
       "    </tr>\n",
       "    <tr>\n",
       "      <th>2</th>\n",
       "      <td>3</td>\n",
       "      <td>CA-2017-138688</td>\n",
       "      <td>12/06/2017</td>\n",
       "      <td>16/06/2017</td>\n",
       "      <td>Second Class</td>\n",
       "      <td>DV-13045</td>\n",
       "      <td>Darrin Van Huff</td>\n",
       "      <td>Corporate</td>\n",
       "      <td>United States</td>\n",
       "      <td>Los Angeles</td>\n",
       "      <td>California</td>\n",
       "      <td>90036.0</td>\n",
       "      <td>West</td>\n",
       "      <td>OFF-LA-10000240</td>\n",
       "      <td>Office Supplies</td>\n",
       "      <td>Labels</td>\n",
       "      <td>Self-Adhesive Address Labels for Typewriters b...</td>\n",
       "      <td>14.6200</td>\n",
       "    </tr>\n",
       "    <tr>\n",
       "      <th>3</th>\n",
       "      <td>4</td>\n",
       "      <td>US-2016-108966</td>\n",
       "      <td>11/10/2016</td>\n",
       "      <td>18/10/2016</td>\n",
       "      <td>Standard Class</td>\n",
       "      <td>SO-20335</td>\n",
       "      <td>Sean O'Donnell</td>\n",
       "      <td>Consumer</td>\n",
       "      <td>United States</td>\n",
       "      <td>Fort Lauderdale</td>\n",
       "      <td>Florida</td>\n",
       "      <td>33311.0</td>\n",
       "      <td>South</td>\n",
       "      <td>FUR-TA-10000577</td>\n",
       "      <td>Furniture</td>\n",
       "      <td>Tables</td>\n",
       "      <td>Bretford CR4500 Series Slim Rectangular Table</td>\n",
       "      <td>957.5775</td>\n",
       "    </tr>\n",
       "    <tr>\n",
       "      <th>4</th>\n",
       "      <td>5</td>\n",
       "      <td>US-2016-108966</td>\n",
       "      <td>11/10/2016</td>\n",
       "      <td>18/10/2016</td>\n",
       "      <td>Standard Class</td>\n",
       "      <td>SO-20335</td>\n",
       "      <td>Sean O'Donnell</td>\n",
       "      <td>Consumer</td>\n",
       "      <td>United States</td>\n",
       "      <td>Fort Lauderdale</td>\n",
       "      <td>Florida</td>\n",
       "      <td>33311.0</td>\n",
       "      <td>South</td>\n",
       "      <td>OFF-ST-10000760</td>\n",
       "      <td>Office Supplies</td>\n",
       "      <td>Storage</td>\n",
       "      <td>Eldon Fold 'N Roll Cart System</td>\n",
       "      <td>22.3680</td>\n",
       "    </tr>\n",
       "    <tr>\n",
       "      <th>...</th>\n",
       "      <td>...</td>\n",
       "      <td>...</td>\n",
       "      <td>...</td>\n",
       "      <td>...</td>\n",
       "      <td>...</td>\n",
       "      <td>...</td>\n",
       "      <td>...</td>\n",
       "      <td>...</td>\n",
       "      <td>...</td>\n",
       "      <td>...</td>\n",
       "      <td>...</td>\n",
       "      <td>...</td>\n",
       "      <td>...</td>\n",
       "      <td>...</td>\n",
       "      <td>...</td>\n",
       "      <td>...</td>\n",
       "      <td>...</td>\n",
       "      <td>...</td>\n",
       "    </tr>\n",
       "    <tr>\n",
       "      <th>9795</th>\n",
       "      <td>9796</td>\n",
       "      <td>CA-2017-125920</td>\n",
       "      <td>21/05/2017</td>\n",
       "      <td>28/05/2017</td>\n",
       "      <td>Standard Class</td>\n",
       "      <td>SH-19975</td>\n",
       "      <td>Sally Hughsby</td>\n",
       "      <td>Corporate</td>\n",
       "      <td>United States</td>\n",
       "      <td>Chicago</td>\n",
       "      <td>Illinois</td>\n",
       "      <td>60610.0</td>\n",
       "      <td>Central</td>\n",
       "      <td>OFF-BI-10003429</td>\n",
       "      <td>Office Supplies</td>\n",
       "      <td>Binders</td>\n",
       "      <td>Cardinal HOLDit! Binder Insert Strips,Extra St...</td>\n",
       "      <td>3.7980</td>\n",
       "    </tr>\n",
       "    <tr>\n",
       "      <th>9796</th>\n",
       "      <td>9797</td>\n",
       "      <td>CA-2016-128608</td>\n",
       "      <td>12/01/2016</td>\n",
       "      <td>17/01/2016</td>\n",
       "      <td>Standard Class</td>\n",
       "      <td>CS-12490</td>\n",
       "      <td>Cindy Schnelling</td>\n",
       "      <td>Corporate</td>\n",
       "      <td>United States</td>\n",
       "      <td>Toledo</td>\n",
       "      <td>Ohio</td>\n",
       "      <td>43615.0</td>\n",
       "      <td>East</td>\n",
       "      <td>OFF-AR-10001374</td>\n",
       "      <td>Office Supplies</td>\n",
       "      <td>Art</td>\n",
       "      <td>BIC Brite Liner Highlighters, Chisel Tip</td>\n",
       "      <td>10.3680</td>\n",
       "    </tr>\n",
       "    <tr>\n",
       "      <th>9797</th>\n",
       "      <td>9798</td>\n",
       "      <td>CA-2016-128608</td>\n",
       "      <td>12/01/2016</td>\n",
       "      <td>17/01/2016</td>\n",
       "      <td>Standard Class</td>\n",
       "      <td>CS-12490</td>\n",
       "      <td>Cindy Schnelling</td>\n",
       "      <td>Corporate</td>\n",
       "      <td>United States</td>\n",
       "      <td>Toledo</td>\n",
       "      <td>Ohio</td>\n",
       "      <td>43615.0</td>\n",
       "      <td>East</td>\n",
       "      <td>TEC-PH-10004977</td>\n",
       "      <td>Technology</td>\n",
       "      <td>Phones</td>\n",
       "      <td>GE 30524EE4</td>\n",
       "      <td>235.1880</td>\n",
       "    </tr>\n",
       "    <tr>\n",
       "      <th>9798</th>\n",
       "      <td>9799</td>\n",
       "      <td>CA-2016-128608</td>\n",
       "      <td>12/01/2016</td>\n",
       "      <td>17/01/2016</td>\n",
       "      <td>Standard Class</td>\n",
       "      <td>CS-12490</td>\n",
       "      <td>Cindy Schnelling</td>\n",
       "      <td>Corporate</td>\n",
       "      <td>United States</td>\n",
       "      <td>Toledo</td>\n",
       "      <td>Ohio</td>\n",
       "      <td>43615.0</td>\n",
       "      <td>East</td>\n",
       "      <td>TEC-PH-10000912</td>\n",
       "      <td>Technology</td>\n",
       "      <td>Phones</td>\n",
       "      <td>Anker 24W Portable Micro USB Car Charger</td>\n",
       "      <td>26.3760</td>\n",
       "    </tr>\n",
       "    <tr>\n",
       "      <th>9799</th>\n",
       "      <td>9800</td>\n",
       "      <td>CA-2016-128608</td>\n",
       "      <td>12/01/2016</td>\n",
       "      <td>17/01/2016</td>\n",
       "      <td>Standard Class</td>\n",
       "      <td>CS-12490</td>\n",
       "      <td>Cindy Schnelling</td>\n",
       "      <td>Corporate</td>\n",
       "      <td>United States</td>\n",
       "      <td>Toledo</td>\n",
       "      <td>Ohio</td>\n",
       "      <td>43615.0</td>\n",
       "      <td>East</td>\n",
       "      <td>TEC-AC-10000487</td>\n",
       "      <td>Technology</td>\n",
       "      <td>Accessories</td>\n",
       "      <td>SanDisk Cruzer 4 GB USB Flash Drive</td>\n",
       "      <td>10.3840</td>\n",
       "    </tr>\n",
       "  </tbody>\n",
       "</table>\n",
       "<p>9800 rows × 18 columns</p>\n",
       "</div>"
      ],
      "text/plain": [
       "      Row ID        Order ID  Order Date   Ship Date       Ship Mode  \\\n",
       "0          1  CA-2017-152156  08/11/2017  11/11/2017    Second Class   \n",
       "1          2  CA-2017-152156  08/11/2017  11/11/2017    Second Class   \n",
       "2          3  CA-2017-138688  12/06/2017  16/06/2017    Second Class   \n",
       "3          4  US-2016-108966  11/10/2016  18/10/2016  Standard Class   \n",
       "4          5  US-2016-108966  11/10/2016  18/10/2016  Standard Class   \n",
       "...      ...             ...         ...         ...             ...   \n",
       "9795    9796  CA-2017-125920  21/05/2017  28/05/2017  Standard Class   \n",
       "9796    9797  CA-2016-128608  12/01/2016  17/01/2016  Standard Class   \n",
       "9797    9798  CA-2016-128608  12/01/2016  17/01/2016  Standard Class   \n",
       "9798    9799  CA-2016-128608  12/01/2016  17/01/2016  Standard Class   \n",
       "9799    9800  CA-2016-128608  12/01/2016  17/01/2016  Standard Class   \n",
       "\n",
       "     Customer ID     Customer Name    Segment        Country             City  \\\n",
       "0       CG-12520       Claire Gute   Consumer  United States        Henderson   \n",
       "1       CG-12520       Claire Gute   Consumer  United States        Henderson   \n",
       "2       DV-13045   Darrin Van Huff  Corporate  United States      Los Angeles   \n",
       "3       SO-20335    Sean O'Donnell   Consumer  United States  Fort Lauderdale   \n",
       "4       SO-20335    Sean O'Donnell   Consumer  United States  Fort Lauderdale   \n",
       "...          ...               ...        ...            ...              ...   \n",
       "9795    SH-19975     Sally Hughsby  Corporate  United States          Chicago   \n",
       "9796    CS-12490  Cindy Schnelling  Corporate  United States           Toledo   \n",
       "9797    CS-12490  Cindy Schnelling  Corporate  United States           Toledo   \n",
       "9798    CS-12490  Cindy Schnelling  Corporate  United States           Toledo   \n",
       "9799    CS-12490  Cindy Schnelling  Corporate  United States           Toledo   \n",
       "\n",
       "           State  Postal Code   Region       Product ID         Category  \\\n",
       "0       Kentucky      42420.0    South  FUR-BO-10001798        Furniture   \n",
       "1       Kentucky      42420.0    South  FUR-CH-10000454        Furniture   \n",
       "2     California      90036.0     West  OFF-LA-10000240  Office Supplies   \n",
       "3        Florida      33311.0    South  FUR-TA-10000577        Furniture   \n",
       "4        Florida      33311.0    South  OFF-ST-10000760  Office Supplies   \n",
       "...          ...          ...      ...              ...              ...   \n",
       "9795    Illinois      60610.0  Central  OFF-BI-10003429  Office Supplies   \n",
       "9796        Ohio      43615.0     East  OFF-AR-10001374  Office Supplies   \n",
       "9797        Ohio      43615.0     East  TEC-PH-10004977       Technology   \n",
       "9798        Ohio      43615.0     East  TEC-PH-10000912       Technology   \n",
       "9799        Ohio      43615.0     East  TEC-AC-10000487       Technology   \n",
       "\n",
       "     Sub-Category                                       Product Name     Sales  \n",
       "0       Bookcases                  Bush Somerset Collection Bookcase  261.9600  \n",
       "1          Chairs  Hon Deluxe Fabric Upholstered Stacking Chairs,...  731.9400  \n",
       "2          Labels  Self-Adhesive Address Labels for Typewriters b...   14.6200  \n",
       "3          Tables      Bretford CR4500 Series Slim Rectangular Table  957.5775  \n",
       "4         Storage                     Eldon Fold 'N Roll Cart System   22.3680  \n",
       "...           ...                                                ...       ...  \n",
       "9795      Binders  Cardinal HOLDit! Binder Insert Strips,Extra St...    3.7980  \n",
       "9796          Art           BIC Brite Liner Highlighters, Chisel Tip   10.3680  \n",
       "9797       Phones                                        GE 30524EE4  235.1880  \n",
       "9798       Phones           Anker 24W Portable Micro USB Car Charger   26.3760  \n",
       "9799  Accessories                SanDisk Cruzer 4 GB USB Flash Drive   10.3840  \n",
       "\n",
       "[9800 rows x 18 columns]"
      ]
     },
     "execution_count": 17,
     "metadata": {},
     "output_type": "execute_result"
    }
   ],
   "source": [
    "df.drop_duplicates()"
   ]
  },
  {
   "cell_type": "code",
   "execution_count": 18,
   "metadata": {},
   "outputs": [
    {
     "data": {
      "text/plain": [
       "Row ID             int64\n",
       "Order ID          object\n",
       "Order Date        object\n",
       "Ship Date         object\n",
       "Ship Mode         object\n",
       "Customer ID       object\n",
       "Customer Name     object\n",
       "Segment           object\n",
       "Country           object\n",
       "City              object\n",
       "State             object\n",
       "Postal Code      float64\n",
       "Region            object\n",
       "Product ID        object\n",
       "Category          object\n",
       "Sub-Category      object\n",
       "Product Name      object\n",
       "Sales            float64\n",
       "dtype: object"
      ]
     },
     "execution_count": 18,
     "metadata": {},
     "output_type": "execute_result"
    }
   ],
   "source": [
    "df.dtypes"
   ]
  },
  {
   "cell_type": "code",
   "execution_count": 19,
   "metadata": {},
   "outputs": [],
   "source": [
    "df[\"Order Date\"]=pd.to_datetime(df[\"Order Date\"],format='%d/%m/%Y')"
   ]
  },
  {
   "cell_type": "code",
   "execution_count": 20,
   "metadata": {},
   "outputs": [],
   "source": [
    "df[\"Ship Date\"]=pd.to_datetime(df[\"Ship Date\"],format='%d/%m/%Y')"
   ]
  },
  {
   "cell_type": "code",
   "execution_count": 21,
   "metadata": {},
   "outputs": [
    {
     "data": {
      "text/html": [
       "<div>\n",
       "<style scoped>\n",
       "    .dataframe tbody tr th:only-of-type {\n",
       "        vertical-align: middle;\n",
       "    }\n",
       "\n",
       "    .dataframe tbody tr th {\n",
       "        vertical-align: top;\n",
       "    }\n",
       "\n",
       "    .dataframe thead th {\n",
       "        text-align: right;\n",
       "    }\n",
       "</style>\n",
       "<table border=\"1\" class=\"dataframe\">\n",
       "  <thead>\n",
       "    <tr style=\"text-align: right;\">\n",
       "      <th></th>\n",
       "      <th>count</th>\n",
       "      <th>mean</th>\n",
       "      <th>min</th>\n",
       "      <th>25%</th>\n",
       "      <th>50%</th>\n",
       "      <th>75%</th>\n",
       "      <th>max</th>\n",
       "    </tr>\n",
       "  </thead>\n",
       "  <tbody>\n",
       "    <tr>\n",
       "      <th>Order Date</th>\n",
       "      <td>9800</td>\n",
       "      <td>2017-05-01 05:13:51.673469440</td>\n",
       "      <td>2015-01-03</td>\n",
       "      <td>2016-05-24 00:00:00</td>\n",
       "      <td>2017-06-26</td>\n",
       "      <td>2018-05-15</td>\n",
       "      <td>2018-12-30</td>\n",
       "    </tr>\n",
       "    <tr>\n",
       "      <th>Ship Date</th>\n",
       "      <td>9800</td>\n",
       "      <td>2017-05-05 04:17:52.653061120</td>\n",
       "      <td>2015-01-07</td>\n",
       "      <td>2016-05-27 18:00:00</td>\n",
       "      <td>2017-06-29</td>\n",
       "      <td>2018-05-19</td>\n",
       "      <td>2019-01-05</td>\n",
       "    </tr>\n",
       "  </tbody>\n",
       "</table>\n",
       "</div>"
      ],
      "text/plain": [
       "           count                          mean        min                 25%  \\\n",
       "Order Date  9800 2017-05-01 05:13:51.673469440 2015-01-03 2016-05-24 00:00:00   \n",
       "Ship Date   9800 2017-05-05 04:17:52.653061120 2015-01-07 2016-05-27 18:00:00   \n",
       "\n",
       "                  50%        75%        max  \n",
       "Order Date 2017-06-26 2018-05-15 2018-12-30  \n",
       "Ship Date  2017-06-29 2018-05-19 2019-01-05  "
      ]
     },
     "execution_count": 21,
     "metadata": {},
     "output_type": "execute_result"
    }
   ],
   "source": [
    "df[[\"Order Date\",\"Ship Date\"]].describe().T"
   ]
  },
  {
   "cell_type": "code",
   "execution_count": 22,
   "metadata": {},
   "outputs": [],
   "source": [
    "df[\"month_order_data\"]=df[\"Order Date\"].dt.month"
   ]
  },
  {
   "cell_type": "code",
   "execution_count": 23,
   "metadata": {},
   "outputs": [],
   "source": [
    "df[\"year_order_data\"]=df[\"Order Date\"].dt.year"
   ]
  },
  {
   "cell_type": "code",
   "execution_count": 24,
   "metadata": {},
   "outputs": [],
   "source": [
    "df[\"day_order_data\"]=df[\"Order Date\"].dt.day"
   ]
  },
  {
   "cell_type": "code",
   "execution_count": 25,
   "metadata": {},
   "outputs": [],
   "source": [
    "df[\"month_Ship Date\"]=df[\"Ship Date\"].dt.month\n",
    "df[\"year_Ship Date\"]=df[\"Ship Date\"].dt.year\n",
    "df[\"day_Ship Date\"]=df[\"Ship Date\"].dt.day"
   ]
  },
  {
   "cell_type": "code",
   "execution_count": 26,
   "metadata": {},
   "outputs": [
    {
     "data": {
      "text/html": [
       "<div>\n",
       "<style scoped>\n",
       "    .dataframe tbody tr th:only-of-type {\n",
       "        vertical-align: middle;\n",
       "    }\n",
       "\n",
       "    .dataframe tbody tr th {\n",
       "        vertical-align: top;\n",
       "    }\n",
       "\n",
       "    .dataframe thead th {\n",
       "        text-align: right;\n",
       "    }\n",
       "</style>\n",
       "<table border=\"1\" class=\"dataframe\">\n",
       "  <thead>\n",
       "    <tr style=\"text-align: right;\">\n",
       "      <th></th>\n",
       "      <th>Row ID</th>\n",
       "      <th>Order ID</th>\n",
       "      <th>Order Date</th>\n",
       "      <th>Ship Date</th>\n",
       "      <th>Ship Mode</th>\n",
       "      <th>Customer ID</th>\n",
       "      <th>Customer Name</th>\n",
       "      <th>Segment</th>\n",
       "      <th>Country</th>\n",
       "      <th>City</th>\n",
       "      <th>...</th>\n",
       "      <th>Category</th>\n",
       "      <th>Sub-Category</th>\n",
       "      <th>Product Name</th>\n",
       "      <th>Sales</th>\n",
       "      <th>month_order_data</th>\n",
       "      <th>year_order_data</th>\n",
       "      <th>day_order_data</th>\n",
       "      <th>month_Ship Date</th>\n",
       "      <th>year_Ship Date</th>\n",
       "      <th>day_Ship Date</th>\n",
       "    </tr>\n",
       "  </thead>\n",
       "  <tbody>\n",
       "    <tr>\n",
       "      <th>0</th>\n",
       "      <td>1</td>\n",
       "      <td>CA-2017-152156</td>\n",
       "      <td>2017-11-08</td>\n",
       "      <td>2017-11-11</td>\n",
       "      <td>Second Class</td>\n",
       "      <td>CG-12520</td>\n",
       "      <td>Claire Gute</td>\n",
       "      <td>Consumer</td>\n",
       "      <td>United States</td>\n",
       "      <td>Henderson</td>\n",
       "      <td>...</td>\n",
       "      <td>Furniture</td>\n",
       "      <td>Bookcases</td>\n",
       "      <td>Bush Somerset Collection Bookcase</td>\n",
       "      <td>261.9600</td>\n",
       "      <td>11</td>\n",
       "      <td>2017</td>\n",
       "      <td>8</td>\n",
       "      <td>11</td>\n",
       "      <td>2017</td>\n",
       "      <td>11</td>\n",
       "    </tr>\n",
       "    <tr>\n",
       "      <th>1</th>\n",
       "      <td>2</td>\n",
       "      <td>CA-2017-152156</td>\n",
       "      <td>2017-11-08</td>\n",
       "      <td>2017-11-11</td>\n",
       "      <td>Second Class</td>\n",
       "      <td>CG-12520</td>\n",
       "      <td>Claire Gute</td>\n",
       "      <td>Consumer</td>\n",
       "      <td>United States</td>\n",
       "      <td>Henderson</td>\n",
       "      <td>...</td>\n",
       "      <td>Furniture</td>\n",
       "      <td>Chairs</td>\n",
       "      <td>Hon Deluxe Fabric Upholstered Stacking Chairs,...</td>\n",
       "      <td>731.9400</td>\n",
       "      <td>11</td>\n",
       "      <td>2017</td>\n",
       "      <td>8</td>\n",
       "      <td>11</td>\n",
       "      <td>2017</td>\n",
       "      <td>11</td>\n",
       "    </tr>\n",
       "    <tr>\n",
       "      <th>2</th>\n",
       "      <td>3</td>\n",
       "      <td>CA-2017-138688</td>\n",
       "      <td>2017-06-12</td>\n",
       "      <td>2017-06-16</td>\n",
       "      <td>Second Class</td>\n",
       "      <td>DV-13045</td>\n",
       "      <td>Darrin Van Huff</td>\n",
       "      <td>Corporate</td>\n",
       "      <td>United States</td>\n",
       "      <td>Los Angeles</td>\n",
       "      <td>...</td>\n",
       "      <td>Office Supplies</td>\n",
       "      <td>Labels</td>\n",
       "      <td>Self-Adhesive Address Labels for Typewriters b...</td>\n",
       "      <td>14.6200</td>\n",
       "      <td>6</td>\n",
       "      <td>2017</td>\n",
       "      <td>12</td>\n",
       "      <td>6</td>\n",
       "      <td>2017</td>\n",
       "      <td>16</td>\n",
       "    </tr>\n",
       "    <tr>\n",
       "      <th>3</th>\n",
       "      <td>4</td>\n",
       "      <td>US-2016-108966</td>\n",
       "      <td>2016-10-11</td>\n",
       "      <td>2016-10-18</td>\n",
       "      <td>Standard Class</td>\n",
       "      <td>SO-20335</td>\n",
       "      <td>Sean O'Donnell</td>\n",
       "      <td>Consumer</td>\n",
       "      <td>United States</td>\n",
       "      <td>Fort Lauderdale</td>\n",
       "      <td>...</td>\n",
       "      <td>Furniture</td>\n",
       "      <td>Tables</td>\n",
       "      <td>Bretford CR4500 Series Slim Rectangular Table</td>\n",
       "      <td>957.5775</td>\n",
       "      <td>10</td>\n",
       "      <td>2016</td>\n",
       "      <td>11</td>\n",
       "      <td>10</td>\n",
       "      <td>2016</td>\n",
       "      <td>18</td>\n",
       "    </tr>\n",
       "    <tr>\n",
       "      <th>4</th>\n",
       "      <td>5</td>\n",
       "      <td>US-2016-108966</td>\n",
       "      <td>2016-10-11</td>\n",
       "      <td>2016-10-18</td>\n",
       "      <td>Standard Class</td>\n",
       "      <td>SO-20335</td>\n",
       "      <td>Sean O'Donnell</td>\n",
       "      <td>Consumer</td>\n",
       "      <td>United States</td>\n",
       "      <td>Fort Lauderdale</td>\n",
       "      <td>...</td>\n",
       "      <td>Office Supplies</td>\n",
       "      <td>Storage</td>\n",
       "      <td>Eldon Fold 'N Roll Cart System</td>\n",
       "      <td>22.3680</td>\n",
       "      <td>10</td>\n",
       "      <td>2016</td>\n",
       "      <td>11</td>\n",
       "      <td>10</td>\n",
       "      <td>2016</td>\n",
       "      <td>18</td>\n",
       "    </tr>\n",
       "  </tbody>\n",
       "</table>\n",
       "<p>5 rows × 24 columns</p>\n",
       "</div>"
      ],
      "text/plain": [
       "   Row ID        Order ID Order Date  Ship Date       Ship Mode Customer ID  \\\n",
       "0       1  CA-2017-152156 2017-11-08 2017-11-11    Second Class    CG-12520   \n",
       "1       2  CA-2017-152156 2017-11-08 2017-11-11    Second Class    CG-12520   \n",
       "2       3  CA-2017-138688 2017-06-12 2017-06-16    Second Class    DV-13045   \n",
       "3       4  US-2016-108966 2016-10-11 2016-10-18  Standard Class    SO-20335   \n",
       "4       5  US-2016-108966 2016-10-11 2016-10-18  Standard Class    SO-20335   \n",
       "\n",
       "     Customer Name    Segment        Country             City  ...  \\\n",
       "0      Claire Gute   Consumer  United States        Henderson  ...   \n",
       "1      Claire Gute   Consumer  United States        Henderson  ...   \n",
       "2  Darrin Van Huff  Corporate  United States      Los Angeles  ...   \n",
       "3   Sean O'Donnell   Consumer  United States  Fort Lauderdale  ...   \n",
       "4   Sean O'Donnell   Consumer  United States  Fort Lauderdale  ...   \n",
       "\n",
       "          Category  Sub-Category  \\\n",
       "0        Furniture     Bookcases   \n",
       "1        Furniture        Chairs   \n",
       "2  Office Supplies        Labels   \n",
       "3        Furniture        Tables   \n",
       "4  Office Supplies       Storage   \n",
       "\n",
       "                                        Product Name     Sales  \\\n",
       "0                  Bush Somerset Collection Bookcase  261.9600   \n",
       "1  Hon Deluxe Fabric Upholstered Stacking Chairs,...  731.9400   \n",
       "2  Self-Adhesive Address Labels for Typewriters b...   14.6200   \n",
       "3      Bretford CR4500 Series Slim Rectangular Table  957.5775   \n",
       "4                     Eldon Fold 'N Roll Cart System   22.3680   \n",
       "\n",
       "  month_order_data year_order_data day_order_data  month_Ship Date  \\\n",
       "0               11            2017              8               11   \n",
       "1               11            2017              8               11   \n",
       "2                6            2017             12                6   \n",
       "3               10            2016             11               10   \n",
       "4               10            2016             11               10   \n",
       "\n",
       "   year_Ship Date  day_Ship Date  \n",
       "0            2017             11  \n",
       "1            2017             11  \n",
       "2            2017             16  \n",
       "3            2016             18  \n",
       "4            2016             18  \n",
       "\n",
       "[5 rows x 24 columns]"
      ]
     },
     "execution_count": 26,
     "metadata": {},
     "output_type": "execute_result"
    }
   ],
   "source": [
    "df.head()"
   ]
  },
  {
   "cell_type": "code",
   "execution_count": 27,
   "metadata": {},
   "outputs": [
    {
     "data": {
      "text/plain": [
       "<Axes: xlabel='Ship Mode'>"
      ]
     },
     "execution_count": 27,
     "metadata": {},
     "output_type": "execute_result"
    },
    {
     "data": {
      "image/png": "[encoded data removed]",
      "text/plain": [
       "<Figure size 640x480 with 1 Axes>"
      ]
     },
     "metadata": {},
     "output_type": "display_data"
    }
   ],
   "source": [
    "#Data exploration\n",
    "#ship mode\n",
    "df[\"Ship Mode\"].value_counts().plot(kind=\"bar\")"
   ]
  },
  {
   "cell_type": "code",
   "execution_count": 28,
   "metadata": {},
   "outputs": [
    {
     "data": {
      "text/html": [
       "<div>\n",
       "<style scoped>\n",
       "    .dataframe tbody tr th:only-of-type {\n",
       "        vertical-align: middle;\n",
       "    }\n",
       "\n",
       "    .dataframe tbody tr th {\n",
       "        vertical-align: top;\n",
       "    }\n",
       "\n",
       "    .dataframe thead th {\n",
       "        text-align: right;\n",
       "    }\n",
       "</style>\n",
       "<table border=\"1\" class=\"dataframe\">\n",
       "  <thead>\n",
       "    <tr style=\"text-align: right;\">\n",
       "      <th></th>\n",
       "      <th>Sales</th>\n",
       "    </tr>\n",
       "    <tr>\n",
       "      <th>Ship Mode</th>\n",
       "      <th></th>\n",
       "    </tr>\n",
       "  </thead>\n",
       "  <tbody>\n",
       "    <tr>\n",
       "      <th>Same Day</th>\n",
       "      <td>1.252190e+05</td>\n",
       "    </tr>\n",
       "    <tr>\n",
       "      <th>First Class</th>\n",
       "      <td>3.455723e+05</td>\n",
       "    </tr>\n",
       "    <tr>\n",
       "      <th>Second Class</th>\n",
       "      <td>4.499142e+05</td>\n",
       "    </tr>\n",
       "    <tr>\n",
       "      <th>Standard Class</th>\n",
       "      <td>1.340831e+06</td>\n",
       "    </tr>\n",
       "  </tbody>\n",
       "</table>\n",
       "</div>"
      ],
      "text/plain": [
       "                       Sales\n",
       "Ship Mode                   \n",
       "Same Day        1.252190e+05\n",
       "First Class     3.455723e+05\n",
       "Second Class    4.499142e+05\n",
       "Standard Class  1.340831e+06"
      ]
     },
     "execution_count": 28,
     "metadata": {},
     "output_type": "execute_result"
    }
   ],
   "source": [
    "df.groupby([\"Ship Mode\"])[[\"Sales\"]].sum().sort_values(\"Sales\")"
   ]
  },
  {
   "cell_type": "code",
   "execution_count": 29,
   "metadata": {},
   "outputs": [
    {
     "data": {
      "text/plain": [
       "<Axes: ylabel='Sales'>"
      ]
     },
     "execution_count": 29,
     "metadata": {},
     "output_type": "execute_result"
    },
    {
     "data": {
      "image/png": "[encoded data removed]",
      "text/plain": [
       "<Figure size 640x480 with 1 Axes>"
      ]
     },
     "metadata": {},
     "output_type": "display_data"
    }
   ],
   "source": [
    "df.groupby([\"Ship Mode\"])[\"Sales\"].sum().sort_values().plot(kind=\"pie\", autopct=\"%1.1f%%\")"
   ]
  },
  {
   "cell_type": "code",
   "execution_count": 30,
   "metadata": {},
   "outputs": [
    {
     "data": {
      "text/plain": [
       "<Axes: xlabel='Segment'>"
      ]
     },
     "execution_count": 30,
     "metadata": {},
     "output_type": "execute_result"
    },
    {
     "data": {
      "image/png": "[encoded data removed]",
      "text/plain": [
       "<Figure size 640x480 with 1 Axes>"
      ]
     },
     "metadata": {},
     "output_type": "display_data"
    }
   ],
   "source": [
    "#segment\n",
    "df[\"Segment\"].value_counts().plot(kind=\"bar\")"
   ]
  },
  {
   "cell_type": "code",
   "execution_count": 31,
   "metadata": {},
   "outputs": [
    {
     "data": {
      "text/html": [
       "<div>\n",
       "<style scoped>\n",
       "    .dataframe tbody tr th:only-of-type {\n",
       "        vertical-align: middle;\n",
       "    }\n",
       "\n",
       "    .dataframe tbody tr th {\n",
       "        vertical-align: top;\n",
       "    }\n",
       "\n",
       "    .dataframe thead th {\n",
       "        text-align: right;\n",
       "    }\n",
       "</style>\n",
       "<table border=\"1\" class=\"dataframe\">\n",
       "  <thead>\n",
       "    <tr style=\"text-align: right;\">\n",
       "      <th></th>\n",
       "      <th>Sales</th>\n",
       "    </tr>\n",
       "    <tr>\n",
       "      <th>Segment</th>\n",
       "      <th></th>\n",
       "    </tr>\n",
       "  </thead>\n",
       "  <tbody>\n",
       "    <tr>\n",
       "      <th>Home Office</th>\n",
       "      <td>4.249822e+05</td>\n",
       "    </tr>\n",
       "    <tr>\n",
       "      <th>Corporate</th>\n",
       "      <td>6.884941e+05</td>\n",
       "    </tr>\n",
       "    <tr>\n",
       "      <th>Consumer</th>\n",
       "      <td>1.148061e+06</td>\n",
       "    </tr>\n",
       "  </tbody>\n",
       "</table>\n",
       "</div>"
      ],
      "text/plain": [
       "                    Sales\n",
       "Segment                  \n",
       "Home Office  4.249822e+05\n",
       "Corporate    6.884941e+05\n",
       "Consumer     1.148061e+06"
      ]
     },
     "execution_count": 31,
     "metadata": {},
     "output_type": "execute_result"
    }
   ],
   "source": [
    "df.groupby([\"Segment\"])[[\"Sales\"]].sum().sort_values(\"Sales\")"
   ]
  },
  {
   "cell_type": "code",
   "execution_count": 32,
   "metadata": {},
   "outputs": [
    {
     "data": {
      "text/plain": [
       "<Axes: ylabel='Sales'>"
      ]
     },
     "execution_count": 32,
     "metadata": {},
     "output_type": "execute_result"
    },
    {
     "data": {
      "image/png": "[encoded data removed]",
      "text/plain": [
       "<Figure size 640x480 with 1 Axes>"
      ]
     },
     "metadata": {},
     "output_type": "display_data"
    }
   ],
   "source": [
    "df.groupby([\"Segment\"])[\"Sales\"].sum().sort_values().plot(kind=\"pie\", autopct=\"%1.1f%%\")"
   ]
  },
  {
   "cell_type": "code",
   "execution_count": 33,
   "metadata": {},
   "outputs": [
    {
     "data": {
      "text/plain": [
       "<Axes: xlabel='Category'>"
      ]
     },
     "execution_count": 33,
     "metadata": {},
     "output_type": "execute_result"
    },
    {
     "data": {
      "image/png": "[encoded data removed]",
      "text/plain": [
       "<Figure size 640x480 with 1 Axes>"
      ]
     },
     "metadata": {},
     "output_type": "display_data"
    }
   ],
   "source": [
    "#category\n",
    "df[\"Category\"].value_counts().plot(kind=\"bar\")"
   ]
  },
  {
   "cell_type": "code",
   "execution_count": 34,
   "metadata": {},
   "outputs": [
    {
     "data": {
      "text/html": [
       "<div>\n",
       "<style scoped>\n",
       "    .dataframe tbody tr th:only-of-type {\n",
       "        vertical-align: middle;\n",
       "    }\n",
       "\n",
       "    .dataframe tbody tr th {\n",
       "        vertical-align: top;\n",
       "    }\n",
       "\n",
       "    .dataframe thead th {\n",
       "        text-align: right;\n",
       "    }\n",
       "</style>\n",
       "<table border=\"1\" class=\"dataframe\">\n",
       "  <thead>\n",
       "    <tr style=\"text-align: right;\">\n",
       "      <th></th>\n",
       "      <th>Sales</th>\n",
       "    </tr>\n",
       "    <tr>\n",
       "      <th>Category</th>\n",
       "      <th></th>\n",
       "    </tr>\n",
       "  </thead>\n",
       "  <tbody>\n",
       "    <tr>\n",
       "      <th>Office Supplies</th>\n",
       "      <td>705422.3340</td>\n",
       "    </tr>\n",
       "    <tr>\n",
       "      <th>Furniture</th>\n",
       "      <td>728658.5757</td>\n",
       "    </tr>\n",
       "    <tr>\n",
       "      <th>Technology</th>\n",
       "      <td>827455.8730</td>\n",
       "    </tr>\n",
       "  </tbody>\n",
       "</table>\n",
       "</div>"
      ],
      "text/plain": [
       "                       Sales\n",
       "Category                    \n",
       "Office Supplies  705422.3340\n",
       "Furniture        728658.5757\n",
       "Technology       827455.8730"
      ]
     },
     "execution_count": 34,
     "metadata": {},
     "output_type": "execute_result"
    }
   ],
   "source": [
    "df.groupby([\"Category\"])[[\"Sales\"]].sum().sort_values(\"Sales\")"
   ]
  },
  {
   "cell_type": "code",
   "execution_count": 35,
   "metadata": {},
   "outputs": [
    {
     "data": {
      "text/plain": [
       "<Axes: ylabel='Sales'>"
      ]
     },
     "execution_count": 35,
     "metadata": {},
     "output_type": "execute_result"
    },
    {
     "data": {
      "image/png": "[encoded data removed]",
      "text/plain": [
       "<Figure size 640x480 with 1 Axes>"
      ]
     },
     "metadata": {},
     "output_type": "display_data"
    }
   ],
   "source": [
    "df.groupby([\"Category\"])[\"Sales\"].sum().sort_values().plot(kind=\"pie\", autopct=\"%1.1f%%\")"
   ]
  },
  {
   "cell_type": "code",
   "execution_count": 36,
   "metadata": {},
   "outputs": [
    {
     "data": {
      "text/html": [
       "<div>\n",
       "<style scoped>\n",
       "    .dataframe tbody tr th:only-of-type {\n",
       "        vertical-align: middle;\n",
       "    }\n",
       "\n",
       "    .dataframe tbody tr th {\n",
       "        vertical-align: top;\n",
       "    }\n",
       "\n",
       "    .dataframe thead th {\n",
       "        text-align: right;\n",
       "    }\n",
       "</style>\n",
       "<table border=\"1\" class=\"dataframe\">\n",
       "  <thead>\n",
       "    <tr style=\"text-align: right;\">\n",
       "      <th></th>\n",
       "      <th>Sales</th>\n",
       "    </tr>\n",
       "    <tr>\n",
       "      <th>year_order_data</th>\n",
       "      <th></th>\n",
       "    </tr>\n",
       "  </thead>\n",
       "  <tbody>\n",
       "    <tr>\n",
       "      <th>2016</th>\n",
       "      <td>459436.0054</td>\n",
       "    </tr>\n",
       "    <tr>\n",
       "      <th>2015</th>\n",
       "      <td>479856.2081</td>\n",
       "    </tr>\n",
       "    <tr>\n",
       "      <th>2017</th>\n",
       "      <td>600192.5500</td>\n",
       "    </tr>\n",
       "    <tr>\n",
       "      <th>2018</th>\n",
       "      <td>722052.0192</td>\n",
       "    </tr>\n",
       "  </tbody>\n",
       "</table>\n",
       "</div>"
      ],
      "text/plain": [
       "                       Sales\n",
       "year_order_data             \n",
       "2016             459436.0054\n",
       "2015             479856.2081\n",
       "2017             600192.5500\n",
       "2018             722052.0192"
      ]
     },
     "execution_count": 36,
     "metadata": {},
     "output_type": "execute_result"
    }
   ],
   "source": [
    "df.groupby([\"year_order_data\"])[[\"Sales\"]].sum().sort_values(\"Sales\")"
   ]
  },
  {
   "cell_type": "code",
   "execution_count": 37,
   "metadata": {},
   "outputs": [
    {
     "data": {
      "text/plain": [
       "<Axes: xlabel='year_order_data'>"
      ]
     },
     "execution_count": 37,
     "metadata": {},
     "output_type": "execute_result"
    },
    {
     "data": {
      "image/png": "[encoded data removed]",
      "text/plain": [
       "<Figure size 640x480 with 1 Axes>"
      ]
     },
     "metadata": {},
     "output_type": "display_data"
    }
   ],
   "source": [
    "df.groupby([\"year_order_data\"])[[\"Sales\"]].sum().sort_values(\"year_order_data\").plot()"
   ]
  },
  {
   "cell_type": "code",
   "execution_count": 38,
   "metadata": {},
   "outputs": [
    {
     "data": {
      "text/plain": [
       "Index(['Row ID', 'Order ID', 'Order Date', 'Ship Date', 'Ship Mode',\n",
       "       'Customer ID', 'Customer Name', 'Segment', 'Country', 'City', 'State',\n",
       "       'Postal Code', 'Region', 'Product ID', 'Category', 'Sub-Category',\n",
       "       'Product Name', 'Sales', 'month_order_data', 'year_order_data',\n",
       "       'day_order_data', 'month_Ship Date', 'year_Ship Date', 'day_Ship Date'],\n",
       "      dtype='object')"
      ]
     },
     "execution_count": 38,
     "metadata": {},
     "output_type": "execute_result"
    }
   ],
   "source": [
    "df.columns"
   ]
  },
  {
   "cell_type": "code",
   "execution_count": 39,
   "metadata": {},
   "outputs": [
    {
     "data": {
      "text/html": [
       "<div>\n",
       "<style scoped>\n",
       "    .dataframe tbody tr th:only-of-type {\n",
       "        vertical-align: middle;\n",
       "    }\n",
       "\n",
       "    .dataframe tbody tr th {\n",
       "        vertical-align: top;\n",
       "    }\n",
       "\n",
       "    .dataframe thead th {\n",
       "        text-align: right;\n",
       "    }\n",
       "</style>\n",
       "<table border=\"1\" class=\"dataframe\">\n",
       "  <thead>\n",
       "    <tr style=\"text-align: right;\">\n",
       "      <th></th>\n",
       "      <th>Sales</th>\n",
       "    </tr>\n",
       "    <tr>\n",
       "      <th>State</th>\n",
       "      <th></th>\n",
       "    </tr>\n",
       "  </thead>\n",
       "  <tbody>\n",
       "    <tr>\n",
       "      <th>North Dakota</th>\n",
       "      <td>919.9100</td>\n",
       "    </tr>\n",
       "    <tr>\n",
       "      <th>West Virginia</th>\n",
       "      <td>1209.8240</td>\n",
       "    </tr>\n",
       "    <tr>\n",
       "      <th>Maine</th>\n",
       "      <td>1270.5300</td>\n",
       "    </tr>\n",
       "    <tr>\n",
       "      <th>South Dakota</th>\n",
       "      <td>1315.5600</td>\n",
       "    </tr>\n",
       "    <tr>\n",
       "      <th>Wyoming</th>\n",
       "      <td>1603.1360</td>\n",
       "    </tr>\n",
       "    <tr>\n",
       "      <th>District of Columbia</th>\n",
       "      <td>2865.0200</td>\n",
       "    </tr>\n",
       "    <tr>\n",
       "      <th>Kansas</th>\n",
       "      <td>2914.3100</td>\n",
       "    </tr>\n",
       "    <tr>\n",
       "      <th>Idaho</th>\n",
       "      <td>4382.4860</td>\n",
       "    </tr>\n",
       "    <tr>\n",
       "      <th>Iowa</th>\n",
       "      <td>4443.5600</td>\n",
       "    </tr>\n",
       "    <tr>\n",
       "      <th>New Mexico</th>\n",
       "      <td>4783.5220</td>\n",
       "    </tr>\n",
       "    <tr>\n",
       "      <th>Montana</th>\n",
       "      <td>5589.3520</td>\n",
       "    </tr>\n",
       "    <tr>\n",
       "      <th>New Hampshire</th>\n",
       "      <td>7292.5240</td>\n",
       "    </tr>\n",
       "    <tr>\n",
       "      <th>Nebraska</th>\n",
       "      <td>7464.9300</td>\n",
       "    </tr>\n",
       "    <tr>\n",
       "      <th>South Carolina</th>\n",
       "      <td>8481.7100</td>\n",
       "    </tr>\n",
       "    <tr>\n",
       "      <th>Vermont</th>\n",
       "      <td>8929.3700</td>\n",
       "    </tr>\n",
       "    <tr>\n",
       "      <th>Louisiana</th>\n",
       "      <td>9131.0500</td>\n",
       "    </tr>\n",
       "    <tr>\n",
       "      <th>Mississippi</th>\n",
       "      <td>10771.3400</td>\n",
       "    </tr>\n",
       "    <tr>\n",
       "      <th>Utah</th>\n",
       "      <td>11220.0560</td>\n",
       "    </tr>\n",
       "    <tr>\n",
       "      <th>Arkansas</th>\n",
       "      <td>11678.1300</td>\n",
       "    </tr>\n",
       "    <tr>\n",
       "      <th>Connecticut</th>\n",
       "      <td>13384.3570</td>\n",
       "    </tr>\n",
       "    <tr>\n",
       "      <th>Nevada</th>\n",
       "      <td>16729.1020</td>\n",
       "    </tr>\n",
       "    <tr>\n",
       "      <th>Oregon</th>\n",
       "      <td>17284.4620</td>\n",
       "    </tr>\n",
       "    <tr>\n",
       "      <th>Alabama</th>\n",
       "      <td>19510.6400</td>\n",
       "    </tr>\n",
       "    <tr>\n",
       "      <th>Oklahoma</th>\n",
       "      <td>19683.3900</td>\n",
       "    </tr>\n",
       "    <tr>\n",
       "      <th>Missouri</th>\n",
       "      <td>22205.1500</td>\n",
       "    </tr>\n",
       "    <tr>\n",
       "      <th>Rhode Island</th>\n",
       "      <td>22525.0260</td>\n",
       "    </tr>\n",
       "    <tr>\n",
       "      <th>Maryland</th>\n",
       "      <td>23705.5230</td>\n",
       "    </tr>\n",
       "    <tr>\n",
       "      <th>Delaware</th>\n",
       "      <td>27322.9990</td>\n",
       "    </tr>\n",
       "    <tr>\n",
       "      <th>Massachusetts</th>\n",
       "      <td>28634.4340</td>\n",
       "    </tr>\n",
       "    <tr>\n",
       "      <th>Minnesota</th>\n",
       "      <td>29863.1500</td>\n",
       "    </tr>\n",
       "    <tr>\n",
       "      <th>Tennessee</th>\n",
       "      <td>30661.8730</td>\n",
       "    </tr>\n",
       "    <tr>\n",
       "      <th>Wisconsin</th>\n",
       "      <td>31173.4300</td>\n",
       "    </tr>\n",
       "    <tr>\n",
       "      <th>Colorado</th>\n",
       "      <td>31841.5980</td>\n",
       "    </tr>\n",
       "    <tr>\n",
       "      <th>New Jersey</th>\n",
       "      <td>34610.9720</td>\n",
       "    </tr>\n",
       "    <tr>\n",
       "      <th>Arizona</th>\n",
       "      <td>35272.6570</td>\n",
       "    </tr>\n",
       "    <tr>\n",
       "      <th>Kentucky</th>\n",
       "      <td>36458.3900</td>\n",
       "    </tr>\n",
       "    <tr>\n",
       "      <th>Georgia</th>\n",
       "      <td>48219.1100</td>\n",
       "    </tr>\n",
       "    <tr>\n",
       "      <th>Indiana</th>\n",
       "      <td>48718.4000</td>\n",
       "    </tr>\n",
       "    <tr>\n",
       "      <th>North Carolina</th>\n",
       "      <td>55165.9640</td>\n",
       "    </tr>\n",
       "    <tr>\n",
       "      <th>Virginia</th>\n",
       "      <td>70636.7200</td>\n",
       "    </tr>\n",
       "    <tr>\n",
       "      <th>Ohio</th>\n",
       "      <td>75130.3500</td>\n",
       "    </tr>\n",
       "    <tr>\n",
       "      <th>Michigan</th>\n",
       "      <td>76136.0740</td>\n",
       "    </tr>\n",
       "    <tr>\n",
       "      <th>Illinois</th>\n",
       "      <td>79236.5170</td>\n",
       "    </tr>\n",
       "    <tr>\n",
       "      <th>Florida</th>\n",
       "      <td>88436.5320</td>\n",
       "    </tr>\n",
       "    <tr>\n",
       "      <th>Pennsylvania</th>\n",
       "      <td>116276.6500</td>\n",
       "    </tr>\n",
       "    <tr>\n",
       "      <th>Washington</th>\n",
       "      <td>135206.8500</td>\n",
       "    </tr>\n",
       "    <tr>\n",
       "      <th>Texas</th>\n",
       "      <td>168572.5322</td>\n",
       "    </tr>\n",
       "    <tr>\n",
       "      <th>New York</th>\n",
       "      <td>306361.1470</td>\n",
       "    </tr>\n",
       "    <tr>\n",
       "      <th>California</th>\n",
       "      <td>446306.4635</td>\n",
       "    </tr>\n",
       "  </tbody>\n",
       "</table>\n",
       "</div>"
      ],
      "text/plain": [
       "                            Sales\n",
       "State                            \n",
       "North Dakota             919.9100\n",
       "West Virginia           1209.8240\n",
       "Maine                   1270.5300\n",
       "South Dakota            1315.5600\n",
       "Wyoming                 1603.1360\n",
       "District of Columbia    2865.0200\n",
       "Kansas                  2914.3100\n",
       "Idaho                   4382.4860\n",
       "Iowa                    4443.5600\n",
       "New Mexico              4783.5220\n",
       "Montana                 5589.3520\n",
       "New Hampshire           7292.5240\n",
       "Nebraska                7464.9300\n",
       "South Carolina          8481.7100\n",
       "Vermont                 8929.3700\n",
       "Louisiana               9131.0500\n",
       "Mississippi            10771.3400\n",
       "Utah                   11220.0560\n",
       "Arkansas               11678.1300\n",
       "Connecticut            13384.3570\n",
       "Nevada                 16729.1020\n",
       "Oregon                 17284.4620\n",
       "Alabama                19510.6400\n",
       "Oklahoma               19683.3900\n",
       "Missouri               22205.1500\n",
       "Rhode Island           22525.0260\n",
       "Maryland               23705.5230\n",
       "Delaware               27322.9990\n",
       "Massachusetts          28634.4340\n",
       "Minnesota              29863.1500\n",
       "Tennessee              30661.8730\n",
       "Wisconsin              31173.4300\n",
       "Colorado               31841.5980\n",
       "New Jersey             34610.9720\n",
       "Arizona                35272.6570\n",
       "Kentucky               36458.3900\n",
       "Georgia                48219.1100\n",
       "Indiana                48718.4000\n",
       "North Carolina         55165.9640\n",
       "Virginia               70636.7200\n",
       "Ohio                   75130.3500\n",
       "Michigan               76136.0740\n",
       "Illinois               79236.5170\n",
       "Florida                88436.5320\n",
       "Pennsylvania          116276.6500\n",
       "Washington            135206.8500\n",
       "Texas                 168572.5322\n",
       "New York              306361.1470\n",
       "California            446306.4635"
      ]
     },
     "execution_count": 39,
     "metadata": {},
     "output_type": "execute_result"
    }
   ],
   "source": [
    "df.groupby([\"State\"])[[\"Sales\"]].sum().sort_values(\"Sales\")"
   ]
  },
  {
   "cell_type": "code",
   "execution_count": 40,
   "metadata": {},
   "outputs": [
    {
     "data": {
      "text/plain": [
       "<Axes: xlabel='State'>"
      ]
     },
     "execution_count": 40,
     "metadata": {},
     "output_type": "execute_result"
    },
    {
     "data": {
      "image/png": "[encoded data removed]",
      "text/plain": [
       "<Figure size 640x480 with 1 Axes>"
      ]
     },
     "metadata": {},
     "output_type": "display_data"
    }
   ],
   "source": [
    "df.groupby([\"State\"])[[\"Sales\"]].sum().sort_values(\"Sales\").plot()"
   ]
  },
  {
   "cell_type": "code",
   "execution_count": 41,
   "metadata": {},
   "outputs": [
    {
     "data": {
      "text/plain": [
       "Text(0, 0.5, 'Sales')"
      ]
     },
     "execution_count": 41,
     "metadata": {},
     "output_type": "execute_result"
    },
    {
     "data": {
      "image/png": "[encoded data removed]",
      "text/plain": [
       "<Figure size 640x480 with 1 Axes>"
      ]
     },
     "metadata": {},
     "output_type": "display_data"
    }
   ],
   "source": [
    "top_10=df.groupby([\"State\",\"month_order_data\"])[[\"Sales\"]].sum().sort_values(\"Sales\").tail(10)\n",
    "top_10.plot(kind=\"bar\")\n",
    "plt.title(' top_10_state_by sales per month')\n",
    "plt.xlabel(\"State , month\")\n",
    "plt.ylabel(\"Sales\")"
   ]
  },
  {
   "cell_type": "code",
   "execution_count": 42,
   "metadata": {},
   "outputs": [
    {
     "name": "stderr",
     "output_type": "stream",
     "text": [
      "C:\\Users\\Hp\\AppData\\Local\\Temp\\ipykernel_9796\\4248920031.py:1: FutureWarning: \n",
      "\n",
      "Passing `palette` without assigning `hue` is deprecated and will be removed in v0.14.0. Assign the `x` variable to `hue` and set `legend=False` for the same effect.\n",
      "\n",
      "  sns.barplot(data=df, x=\"Category\", y=\"Sales\", palette=\"Paired\")\n"
     ]
    },
    {
     "data": {
      "text/plain": [
       "<Axes: xlabel='Category', ylabel='Sales'>"
      ]
     },
     "execution_count": 42,
     "metadata": {},
     "output_type": "execute_result"
    },
    {
     "data": {
      "image/png": "[encoded data removed]",
      "text/plain": [
       "<Figure size 640x480 with 1 Axes>"
      ]
     },
     "metadata": {},
     "output_type": "display_data"
    }
   ],
   "source": [
    "sns.barplot(data=df, x=\"Category\", y=\"Sales\", palette=\"Paired\")"
   ]
  },
  {
   "cell_type": "code",
   "execution_count": 43,
   "metadata": {},
   "outputs": [
    {
     "name": "stderr",
     "output_type": "stream",
     "text": [
      "C:\\Users\\Hp\\AppData\\Local\\Temp\\ipykernel_9796\\515525451.py:2: FutureWarning: \n",
      "\n",
      "Passing `palette` without assigning `hue` is deprecated and will be removed in v0.14.0. Assign the `x` variable to `hue` and set `legend=False` for the same effect.\n",
      "\n",
      "  sns.countplot(x=df[\"Region\"],palette=\"coolwarm\")\n"
     ]
    },
    {
     "data": {
      "text/plain": [
       "<Axes: xlabel='Region', ylabel='count'>"
      ]
     },
     "execution_count": 43,
     "metadata": {},
     "output_type": "execute_result"
    },
    {
     "data": {
      "image/png": "[encoded data removed]",
      "text/plain": [
       "<Figure size 640x480 with 1 Axes>"
      ]
     },
     "metadata": {},
     "output_type": "display_data"
    }
   ],
   "source": [
    "#Region by shipmode\n",
    "sns.countplot(x=df[\"Region\"],palette=\"coolwarm\")"
   ]
  },
  {
   "cell_type": "code",
   "execution_count": 44,
   "metadata": {},
   "outputs": [
    {
     "data": {
      "text/plain": [
       "<Axes: xlabel='Region', ylabel='count'>"
      ]
     },
     "execution_count": 44,
     "metadata": {},
     "output_type": "execute_result"
    },
    {
     "data": {
      "image/png": "[encoded data removed]",
      "text/plain": [
       "<Figure size 640x480 with 1 Axes>"
      ]
     },
     "metadata": {},
     "output_type": "display_data"
    }
   ],
   "source": [
    "sns.countplot(x=df[\"Region\"],hue=df[\"Ship Mode\"],palette=\"coolwarm\")"
   ]
  },
  {
   "cell_type": "code",
   "execution_count": 45,
   "metadata": {},
   "outputs": [
    {
     "data": {
      "text/plain": [
       "Index(['Row ID', 'Order ID', 'Order Date', 'Ship Date', 'Ship Mode',\n",
       "       'Customer ID', 'Customer Name', 'Segment', 'Country', 'City', 'State',\n",
       "       'Postal Code', 'Region', 'Product ID', 'Category', 'Sub-Category',\n",
       "       'Product Name', 'Sales', 'month_order_data', 'year_order_data',\n",
       "       'day_order_data', 'month_Ship Date', 'year_Ship Date', 'day_Ship Date'],\n",
       "      dtype='object')"
      ]
     },
     "execution_count": 45,
     "metadata": {},
     "output_type": "execute_result"
    }
   ],
   "source": [
    "df.columns"
   ]
  },
  {
   "cell_type": "code",
   "execution_count": 46,
   "metadata": {},
   "outputs": [
    {
     "name": "stderr",
     "output_type": "stream",
     "text": [
      "C:\\Users\\Hp\\AppData\\Local\\Temp\\ipykernel_9796\\1419021023.py:3: FutureWarning: \n",
      "\n",
      "Passing `palette` without assigning `hue` is deprecated and will be removed in v0.14.0. Assign the `x` variable to `hue` and set `legend=False` for the same effect.\n",
      "\n",
      "  sns.countplot(data=df,x=\"Sub-Category\",palette=\"Paired\")\n"
     ]
    },
    {
     "data": {
      "text/plain": [
       "([0, 1, 2, 3, 4, 5, 6, 7, 8, 9, 10, 11, 12, 13, 14, 15, 16],\n",
       " [Text(0, 0, 'Bookcases'),\n",
       "  Text(1, 0, 'Chairs'),\n",
       "  Text(2, 0, 'Labels'),\n",
       "  Text(3, 0, 'Tables'),\n",
       "  Text(4, 0, 'Storage'),\n",
       "  Text(5, 0, 'Furnishings'),\n",
       "  Text(6, 0, 'Art'),\n",
       "  Text(7, 0, 'Phones'),\n",
       "  Text(8, 0, 'Binders'),\n",
       "  Text(9, 0, 'Appliances'),\n",
       "  Text(10, 0, 'Paper'),\n",
       "  Text(11, 0, 'Accessories'),\n",
       "  Text(12, 0, 'Envelopes'),\n",
       "  Text(13, 0, 'Fasteners'),\n",
       "  Text(14, 0, 'Supplies'),\n",
       "  Text(15, 0, 'Machines'),\n",
       "  Text(16, 0, 'Copiers')])"
      ]
     },
     "execution_count": 46,
     "metadata": {},
     "output_type": "execute_result"
    },
    {
     "data": {
      "image/png": "[encoded data removed]",
      "text/plain": [
       "<Figure size 1000x500 with 1 Axes>"
      ]
     },
     "metadata": {},
     "output_type": "display_data"
    }
   ],
   "source": [
    "#sub_category\n",
    "plt.figure(figsize=(10,5))\n",
    "sns.countplot(data=df,x=\"Sub-Category\",palette=\"Paired\")\n",
    "plt.xticks(rotation=90)"
   ]
  },
  {
   "cell_type": "code",
   "execution_count": 47,
   "metadata": {},
   "outputs": [
    {
     "name": "stderr",
     "output_type": "stream",
     "text": [
      "C:\\Users\\Hp\\AppData\\Local\\Temp\\ipykernel_9796\\1235682838.py:3: FutureWarning: \n",
      "\n",
      "Passing `palette` without assigning `hue` is deprecated and will be removed in v0.14.0. Assign the `x` variable to `hue` and set `legend=False` for the same effect.\n",
      "\n",
      "  sns.countplot(data=df,x=\"Segment\",palette=\"coolwarm\")\n"
     ]
    },
    {
     "data": {
      "text/plain": [
       "([0, 1, 2],\n",
       " [Text(0, 0, 'Consumer'), Text(1, 0, 'Corporate'), Text(2, 0, 'Home Office')])"
      ]
     },
     "execution_count": 47,
     "metadata": {},
     "output_type": "execute_result"
    },
    {
     "data": {
      "image/png": "[encoded data removed]",
      "text/plain": [
       "<Figure size 1000x500 with 1 Axes>"
      ]
     },
     "metadata": {},
     "output_type": "display_data"
    }
   ],
   "source": [
    "#segment\n",
    "plt.figure(figsize=(10,5))\n",
    "sns.countplot(data=df,x=\"Segment\",palette=\"coolwarm\")\n",
    "plt.xticks(rotation=90)"
   ]
  },
  {
   "cell_type": "code",
   "execution_count": 48,
   "metadata": {},
   "outputs": [
    {
     "data": {
      "text/plain": [
       "<bound method BaseFigure.show of Figure({\n",
       "    'data': [{'domain': {'x': [0.0, 1.0], 'y': [0.0, 1.0]},\n",
       "              'hovertemplate': 'Category=%{label}<br>Sales=%{value}<extra></extra>',\n",
       "              'labels': array(['Furniture', 'Furniture', 'Office Supplies', ..., 'Technology',\n",
       "                               'Technology', 'Technology'], dtype=object),\n",
       "              'legendgroup': '',\n",
       "              'name': '',\n",
       "              'showlegend': True,\n",
       "              'type': 'pie',\n",
       "              'values': array([261.96 , 731.94 ,  14.62 , ..., 235.188,  26.376,  10.384])}],\n",
       "    'layout': {'legend': {'tracegroupgap': 0}, 'margin': {'t': 60}, 'template': '...'}\n",
       "})>"
      ]
     },
     "execution_count": 48,
     "metadata": {},
     "output_type": "execute_result"
    }
   ],
   "source": [
    "fig = px.pie(df, values=\"Sales\", names=\"Category\")\n",
    "fig.show(renderer=\"browser\")\n",
    "fig.show\n"
   ]
  },
  {
   "cell_type": "code",
   "execution_count": 49,
   "metadata": {},
   "outputs": [],
   "source": [
    "fig = px.scatter(df, x=\"Sub-Category\", y=\"Sales\")\n",
    "fig.show(renderer=\"browser\")"
   ]
  },
  {
   "cell_type": "code",
   "execution_count": 50,
   "metadata": {},
   "outputs": [],
   "source": [
    "fig=px.scatter(df, x=\"Sub-Category\",y=\"Sales\",color=\"Category\",title=\"Sub category by sales hue by category\")\n",
    "fig.show(renderer=\"browser\")"
   ]
  },
  {
   "cell_type": "code",
   "execution_count": 51,
   "metadata": {},
   "outputs": [],
   "source": [
    "#month\n",
    "df['Order Date'] = pd.to_datetime(df['Order Date'], errors='coerce')\n",
    "\n",
    "# Step 2: Extract the month and create a new column 'month_order_date'\n",
    "df['month_order_date'] = df['Order Date'].dt.strftime('%B')\n"
   ]
  },
  {
   "cell_type": "markdown",
   "metadata": {},
   "source": []
  },
  {
   "cell_type": "code",
   "execution_count": 52,
   "metadata": {},
   "outputs": [
    {
     "data": {
      "image/png": "[encoded data removed]",
      "text/plain": [
       "<Figure size 640x480 with 1 Axes>"
      ]
     },
     "metadata": {},
     "output_type": "display_data"
    }
   ],
   "source": [
    "sns.boxenplot(x=\"month_order_date\", data=df)\n",
    "plt.show()"
   ]
  },
  {
   "cell_type": "code",
   "execution_count": 53,
   "metadata": {},
   "outputs": [
    {
     "data": {
      "text/plain": [
       "<Axes: xlabel='month_order_date', ylabel='Sales'>"
      ]
     },
     "execution_count": 53,
     "metadata": {},
     "output_type": "execute_result"
    },
    {
     "data": {
      "image/png": "[encoded data removed]",
      "text/plain": [
       "<Figure size 640x480 with 1 Axes>"
      ]
     },
     "metadata": {},
     "output_type": "display_data"
    }
   ],
   "source": [
    "sns.boxenplot(x=\"month_order_date\",y=\"Sales\", data=df)"
   ]
  },
  {
   "cell_type": "code",
   "execution_count": 54,
   "metadata": {},
   "outputs": [
    {
     "data": {
      "text/plain": [
       "<Axes: xlabel='Region', ylabel='Sales'>"
      ]
     },
     "execution_count": 54,
     "metadata": {},
     "output_type": "execute_result"
    },
    {
     "data": {
      "image/png": "[encoded data removed]",
      "text/plain": [
       "<Figure size 640x480 with 1 Axes>"
      ]
     },
     "metadata": {},
     "output_type": "display_data"
    }
   ],
   "source": [
    "#region\n",
    "sns.boxenplot(x=\"Region\",y=\"Sales\", data=df)"
   ]
  },
  {
   "cell_type": "code",
   "execution_count": null,
   "metadata": {},
   "outputs": [],
   "source": []
  }
 ],
 "metadata": {
  "kernelspec": {
   "display_name": "Python 3",
   "language": "python",
   "name": "python3"
  },
  "language_info": {
   "codemirror_mode": {
    "name": "ipython",
    "version": 3
   },
   "file_extension": ".py",
   "mimetype": "text/x-python",
   "name": "python",
   "nbconvert_exporter": "python",
   "pygments_lexer": "ipython3",
   "version": "3.8.10"
  }
 },
 "nbformat": 4,
 "nbformat_minor": 2
}
